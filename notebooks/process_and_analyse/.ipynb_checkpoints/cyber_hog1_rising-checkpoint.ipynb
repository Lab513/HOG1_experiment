{
 "cells": [
  {
   "cell_type": "code",
   "execution_count": null,
   "metadata": {},
   "outputs": [],
   "source": [
    "import os\n",
    "op = os.path\n",
    "opd, opb, opj = op.dirname, op.basename, op.join\n",
    "os.chdir( opj( opd( opd( os.getcwd() ) ), 'unet' ) )                # go in unet folder\n",
    "print( os.getcwd() )"
   ]
  },
  {
   "cell_type": "code",
   "execution_count": null,
   "metadata": {
    "scrolled": false
   },
   "outputs": [],
   "source": [
    "from modules_analyse.full_processing import FULL_PROC\n",
    "from utils.sep_tif_layers import SEP_TIF_LAYERS as STL"
   ]
  },
  {
   "cell_type": "markdown",
   "metadata": {},
   "source": [
    "## Make composite video"
   ]
  },
  {
   "cell_type": "raw",
   "metadata": {},
   "source": [
    "stl = STL()\n",
    "stl.make_composite(['frame0_t', 'frame0_rfp_t', 'frame0_gfp_t'], 'composite00.tif')"
   ]
  },
  {
   "cell_type": "markdown",
   "metadata": {},
   "source": [
    "## Data"
   ]
  },
  {
   "cell_type": "code",
   "execution_count": null,
   "metadata": {},
   "outputs": [],
   "source": [
    "addr_results =  'Z:\\@Datasets\\mda_HOG1_rising_signal_oct13th_2021'      # exp 74\n",
    "root_file = 'composite'\n",
    "list_layers = ['BF', 'fluo1', 'fluo2']"
   ]
  },
  {
   "cell_type": "markdown",
   "metadata": {},
   "source": [
    "## Destination"
   ]
  },
  {
   "cell_type": "code",
   "execution_count": null,
   "metadata": {},
   "outputs": [],
   "source": [
    "temp_dest = 'C:/Users/Lionel/Desktop/processings/mda_HOG1_rising_a'\n",
    "final_dest = 'C:/Users/Lionel/Desktop/processings/cyber_hog1_nov18th2021_1905'"
   ]
  },
  {
   "cell_type": "markdown",
   "metadata": {},
   "source": [
    "## Create fp"
   ]
  },
  {
   "cell_type": "code",
   "execution_count": 6,
   "metadata": {
    "scrolled": false
   },
   "outputs": [
    {
     "name": "stdout",
     "output_type": "stream",
     "text": [
      "Temporary destination folder for processings is C:/Users/Lionel/Desktop/processings/mda_HOG1_rising_a \n",
      "addr_curr_mod is settings\\curr_model.yaml\n"
     ]
    }
   ],
   "source": [
    "fp = FULL_PROC( addr_results, root_file, list_layers, final_dest, load_data=False, temp_dest=temp_dest )      # , load_data=False, temp_dest='proc_21-10-2021-11-56'"
   ]
  },
  {
   "cell_type": "markdown",
   "metadata": {},
   "source": [
    "## files to process"
   ]
  },
  {
   "cell_type": "code",
   "execution_count": 7,
   "metadata": {},
   "outputs": [],
   "source": [
    "interval = range(0,1)"
   ]
  },
  {
   "cell_type": "markdown",
   "metadata": {},
   "source": [
    "## Extract layers"
   ]
  },
  {
   "cell_type": "code",
   "execution_count": null,
   "metadata": {},
   "outputs": [],
   "source": [
    "fp.extract_layers_of_list_tif(list_tif=interval) # , merge='_t00000'"
   ]
  },
  {
   "cell_type": "markdown",
   "metadata": {},
   "source": [
    "## Segment and track"
   ]
  },
  {
   "cell_type": "code",
   "execution_count": 8,
   "metadata": {},
   "outputs": [
    {
     "name": "stdout",
     "output_type": "stream",
     "text": [
      "temporary destination, self.temp_dest is C:/Users/Lionel/Desktop/processings/mda_HOG1_rising_a \n",
      "final destination is C:/Users/Lionel/Desktop/processings/cyber_hog1_nov18th2021_1905\n",
      "numf is 00 \n",
      "self.temp_dest is C:/Users/Lionel/Desktop/processings/mda_HOG1_rising_a \n",
      "search_pattern is C:/Users/Lionel/Desktop/processings/mda_HOG1_rising_a/composite00/*cleaned_BF.avi \n",
      "addr_clean is C:/Users/Lionel/Desktop/processings/mda_HOG1_rising_a/composite00\\movie_cleaned_BF.avi \n",
      "comm is python detect_cells.py -f C:/Users/Lionel/Desktop/processings/mda_HOG1_rising_a/composite00\\movie_cleaned_BF.avi -m Sd32 --video --track all --num_cell --save_in C:/Users/Lionel/Desktop/processings/mda_HOG1_rising_a/composite00                             --kind_track min --nb_imgs_proc 160 \n",
      "os.getcwd() is C:\\Users\\Lionel\\Desktop\\Tools\\unet\n",
      "time elapsed for segm and track for pos 0 is 18.85 min\n",
      "file or folder is C:/Users/Lionel/Desktop/processings/mda_HOG1_rising_a/composite00/processings\\proc_18-11-2021-14-52\\colors.pkl \n",
      "file or folder is C:/Users/Lionel/Desktop/processings/mda_HOG1_rising_a/composite00/processings\\proc_18-11-2021-14-52\\movie_tracking.avi \n",
      "file or folder is C:/Users/Lionel/Desktop/processings/mda_HOG1_rising_a/composite00/processings\\proc_18-11-2021-14-52\\pkl_bt_cntrs_tracking.pkl \n",
      "file or folder is C:/Users/Lionel/Desktop/processings/mda_HOG1_rising_a/composite00/processings\\proc_18-11-2021-14-52\\pkl_cntrs_pred_tracking.pkl \n",
      "file or folder is C:/Users/Lionel/Desktop/processings/mda_HOG1_rising_a/composite00/processings\\proc_18-11-2021-14-52\\pkl_cntrs_tracking.pkl \n",
      "file or folder is C:/Users/Lionel/Desktop/processings/mda_HOG1_rising_a/composite00/processings\\proc_18-11-2021-14-52\\Sd32_track_18-11-2021-14-52 \n"
     ]
    }
   ],
   "source": [
    "fp.segm_track_list_tif(list_tif=interval, name_mod='Sd32', nb_imgs_proc=160)"
   ]
  },
  {
   "cell_type": "markdown",
   "metadata": {},
   "source": [
    "## Proc time"
   ]
  },
  {
   "cell_type": "markdown",
   "metadata": {},
   "source": [
    "Total estimation time for processing 25 videos of 120 imgs is\n",
    "\n",
    "* 2h40 with unet\n",
    "* 3h30 with stardist.. "
   ]
  }
 ],
 "metadata": {
  "kernelspec": {
   "display_name": "Python 3",
   "language": "python",
   "name": "python3"
  },
  "language_info": {
   "codemirror_mode": {
    "name": "ipython",
    "version": 3
   },
   "file_extension": ".py",
   "mimetype": "text/x-python",
   "name": "python",
   "nbconvert_exporter": "python",
   "pygments_lexer": "ipython3",
   "version": "3.7.7"
  }
 },
 "nbformat": 4,
 "nbformat_minor": 4
}
