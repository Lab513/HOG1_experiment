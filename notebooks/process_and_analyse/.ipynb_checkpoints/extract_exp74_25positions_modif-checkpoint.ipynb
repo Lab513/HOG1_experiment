{
 "cells": [
  {
   "cell_type": "markdown",
   "metadata": {},
   "source": [
    "## Change path"
   ]
  },
  {
   "cell_type": "code",
   "execution_count": null,
   "metadata": {
    "scrolled": false
   },
   "outputs": [],
   "source": [
    "import os\n",
    "op = os.path\n",
    "opd, opb, opj = op.dirname, op.basename, op.join\n",
    "os.chdir( opj( opd(opd(os.getcwd())), 'unet' ) )                # go in unet folder\n",
    "from modules_analyse.full_processing import FULL_PROC"
   ]
  },
  {
   "cell_type": "markdown",
   "metadata": {},
   "source": [
    "## Data\n",
    "\n",
    "dir_exp : folder containing the tif files for each position  \n",
    "root_file : Name of the composite tif file without the last two digits  "
   ]
  },
  {
   "cell_type": "code",
   "execution_count": null,
   "metadata": {},
   "outputs": [],
   "source": [
    "dir_exp = 'N:/Celine_Cordier/DrWho/Exp74_07232019/GrowthRate420190723_52103 PM_20190724_51918 AM'\n",
    "root_file = 'GrowthRate420190723_52103_PM_f00'                    # generic name for position\n",
    "list_layers = ['BF', 'fluo1', 'fluo2']"
   ]
  },
  {
   "cell_type": "markdown",
   "metadata": {},
   "source": [
    "## Destination"
   ]
  },
  {
   "cell_type": "code",
   "execution_count": null,
   "metadata": {},
   "outputs": [],
   "source": [
    "dest = 'Z:/Analyses/processings/Exp74_april_27th_2022'     # folder of destination after segmentation and tracking"
   ]
  },
  {
   "cell_type": "markdown",
   "metadata": {},
   "source": [
    "## Positions"
   ]
  },
  {
   "cell_type": "code",
   "execution_count": null,
   "metadata": {},
   "outputs": [],
   "source": [
    "positions = [6] # range(0,24) [6,8,19,24]"
   ]
  },
  {
   "cell_type": "markdown",
   "metadata": {},
   "source": [
    "## Proc object"
   ]
  },
  {
   "cell_type": "markdown",
   "metadata": {},
   "source": [
    "load_data : Boolean (True/False) for loading from NAS , load in unet/temp  \n",
    "list_pos: list of the positons to be loaded locally, if nothing entered, all the tif are loaded  \n",
    "          must be used if the position suffix is not taken into account.. \n",
    "temp_dest : temporary destination, in Desktop/processings under the name of proc_{date}"
   ]
  },
  {
   "cell_type": "markdown",
   "metadata": {},
   "source": [
    "## Extract layers\n",
    "\n",
    "Extract close to tif movie  \n",
    "merge='_t00000' : '_t00000' is the suffix for '_t000001' and '_t000000'"
   ]
  },
  {
   "cell_type": "markdown",
   "metadata": {},
   "source": [
    "## Segment and track\n",
    "\n",
    "name_mod : name of the model 'Sd32' or 'ep5_v3  \n",
    "nb_imgs_proc : number of images we want to process\n"
   ]
  },
  {
   "cell_type": "code",
   "execution_count": 5,
   "metadata": {
    "scrolled": true
   },
   "outputs": [
    {
     "name": "stdout",
     "output_type": "stream",
     "text": [
      "Temporary destination folder for processings is C:/Users/Lionel/Desktop/processings\\proc_27-04-2022-12-00 \n",
      "addr_curr_mod is settings\\curr_model.yaml\n"
     ]
    }
   ],
   "source": [
    "fp = FULL_PROC(dir_exp, root_file, list_layers, dest,\n",
    "               load_data=False, list_pos=None, \n",
    "               temp_dest='proc_27-04-2022-12-00') "
   ]
  },
  {
   "cell_type": "code",
   "execution_count": 6,
   "metadata": {},
   "outputs": [
    {
     "name": "stdout",
     "output_type": "stream",
     "text": [
      "Instantiate FIND_BAD_PICS \n",
      "folder name for extractions is temp\\GrowthRate420190723_52103 PM_20190724_51918 AM\\GrowthRate420190723_52103_PM_f0024 \n",
      "In find_bad_pics !!!\n",
      "parameters are:\n",
      "tol = 0.9\n",
      "lenchunk = 7\n",
      "nb_iter = 10\n",
      "0\n",
      "1\n",
      "2\n",
      "10\n",
      "12\n",
      "13\n",
      "15\n",
      "18\n",
      "19\n",
      "21\n",
      "22\n",
      "23\n",
      "25\n",
      "26\n",
      "43\n",
      "46\n",
      "47\n",
      "48\n",
      "50\n",
      "57\n",
      "60\n",
      "66\n",
      "67\n",
      "69\n",
      "70\n",
      "72\n",
      "73\n",
      "76\n",
      "78\n",
      "80\n",
      "82\n",
      "84\n",
      "85\n",
      "86\n",
      "87\n",
      "88\n",
      "89\n",
      "90\n",
      "91\n",
      "92\n",
      "93\n",
      "94\n",
      "95\n",
      "96\n",
      "98\n",
      "100\n",
      "101\n",
      "102\n",
      "103\n",
      "104\n",
      "106\n",
      "107\n",
      "108\n",
      "109\n",
      "110\n",
      "111\n",
      "112\n",
      "114\n",
      "117\n",
      "118\n",
      "119\n",
      "In plot_quality !!!\n"
     ]
    },
    {
     "data": {
      "image/png": "[encoded data removed]",
      "text/plain": [
       "<Figure size 432x288 with 1 Axes>"
      ]
     },
     "metadata": {
      "needs_background": "light"
     },
     "output_type": "display_data"
    },
    {
     "name": "stdout",
     "output_type": "stream",
     "text": [
      " self.pics_to_rem after ML treatment is [0, 1, 2, 10, 12, 13, 15, 18, 19, 21, 22, 23, 25, 26, 43, 46, 47, 48, 50, 57, 60, 66, 67, 69, 70, 72, 73, 76, 78, 80, 82, 84, 85, 86, 87, 88, 89, 90, 91, 92, 93, 94, 95, 96, 98, 100, 101, 102, 103, 104, 106, 107, 108, 109, 110, 111, 112, 114, 117, 118, 119]\n",
      " list ll of pics to be removed is [0, 1, 2, 10, 12, 13, 15, 18, 19, 21, 22, 23, 25, 26, 43, 46, 47, 48, 50, 57, 60, 66, 67, 69, 70, 72, 73, 76, 78, 80, 82, 84, 85, 86, 87, 88, 89, 90, 91, 92, 93, 94, 95, 96, 98, 100, 101, 102, 103, 104, 106, 107, 108, 109, 110, 111, 112, 114, 117, 118, 119]\n",
      "After extraction, copy temp\\GrowthRate420190723_52103 PM_20190724_51918 AM\\GrowthRate420190723_52103_PM_f0024 to C:/Users/Lionel/Desktop/processings\\proc_27-04-2022-12-00\\GrowthRate420190723_52103_PM_f0024\n",
      "Copy temp\\GrowthRate420190723_52103 PM_20190724_51918 AM\\GrowthRate420190723_52103_PM_f0024.tif to C:/Users/Lionel/Desktop/processings\\proc_27-04-2022-12-00\\GrowthRate420190723_52103_PM_f0024\\GrowthRate420190723_52103_PM_f0024.tif\n",
      "time elapsed for extracting for position 24 is 2.46 min\n"
     ]
    }
   ],
   "source": [
    "fp.extract_layers_of_list_tif(list_tif=positions)              # Extract , merge='_t00000'"
   ]
  },
  {
   "cell_type": "code",
   "execution_count": 7,
   "metadata": {},
   "outputs": [
    {
     "name": "stdout",
     "output_type": "stream",
     "text": [
      "temporary destination, self.temp_dest is C:/Users/Lionel/Desktop/processings\\proc_27-04-2022-12-00 \n",
      "final destination is Z:/Analyses/processings/Exp74_april_27th_2022\n",
      "numf is 24 \n",
      "self.temp_dest is C:/Users/Lionel/Desktop/processings\\proc_27-04-2022-12-00 \n",
      "search_pattern is C:/Users/Lionel/Desktop/processings\\proc_27-04-2022-12-00/GrowthRate420190723_52103_PM_f0024/*cleaned_BF.avi \n",
      "addr_clean is C:/Users/Lionel/Desktop/processings\\proc_27-04-2022-12-00/GrowthRate420190723_52103_PM_f0024\\movie_cleaned_BF.avi \n",
      "comm is python detect_cells.py -f C:/Users/Lionel/Desktop/processings\\proc_27-04-2022-12-00/GrowthRate420190723_52103_PM_f0024\\movie_cleaned_BF.avi -m Sd32 --video --track all --num_cell --save_in C:/Users/Lionel/Desktop/processings\\proc_27-04-2022-12-00/GrowthRate420190723_52103_PM_f0024\\processings                             --kind_track min --nb_imgs_proc -1 \n",
      "os.getcwd() is C:\\Users\\Lionel\\Desktop\\Tools\\unet\n",
      "time elapsed for segm and track for pos 24 is 5.74 min\n"
     ]
    },
    {
     "ename": "FileExistsError",
     "evalue": "[WinError 183] Impossible de créer un fichier déjà existant: 'Z:/Analyses/processings/Exp74_april_27th_2022'",
     "output_type": "error",
     "traceback": [
      "\u001b[1;31m---------------------------------------------------------------------------\u001b[0m",
      "\u001b[1;31mFileExistsError\u001b[0m                           Traceback (most recent call last)",
      "\u001b[1;32m<ipython-input-7-e84ecc9a4f78>\u001b[0m in \u001b[0;36m<module>\u001b[1;34m\u001b[0m\n\u001b[1;32m----> 1\u001b[1;33m \u001b[0mfp\u001b[0m\u001b[1;33m.\u001b[0m\u001b[0msegm_track_list_tif\u001b[0m\u001b[1;33m(\u001b[0m\u001b[0mlist_tif\u001b[0m\u001b[1;33m=\u001b[0m\u001b[0mpositions\u001b[0m\u001b[1;33m,\u001b[0m \u001b[0mname_mod\u001b[0m\u001b[1;33m=\u001b[0m\u001b[1;34m'Sd32'\u001b[0m\u001b[1;33m)\u001b[0m    \u001b[1;31m# Segment and track\u001b[0m\u001b[1;33m\u001b[0m\u001b[1;33m\u001b[0m\u001b[0m\n\u001b[0m",
      "\u001b[1;32m~\\Desktop\\Tools\\unet\\modules_analyse\\full_processing.py\u001b[0m in \u001b[0;36msegm_track_list_tif\u001b[1;34m(self, list_tif, name_mod, nb_imgs_proc, debug)\u001b[0m\n\u001b[0;32m    300\u001b[0m             \u001b[1;32mexcept\u001b[0m\u001b[1;33m:\u001b[0m\u001b[1;33m\u001b[0m\u001b[1;33m\u001b[0m\u001b[0m\n\u001b[0;32m    301\u001b[0m                 \u001b[0mprint\u001b[0m\u001b[1;33m(\u001b[0m\u001b[1;34m'Cannot remove predictions folder'\u001b[0m\u001b[1;33m)\u001b[0m\u001b[1;33m\u001b[0m\u001b[1;33m\u001b[0m\u001b[0m\n\u001b[1;32m--> 302\u001b[1;33m         \u001b[0msh\u001b[0m\u001b[1;33m.\u001b[0m\u001b[0mcopytree\u001b[0m\u001b[1;33m(\u001b[0m\u001b[0mself\u001b[0m\u001b[1;33m.\u001b[0m\u001b[0mtemp_dest\u001b[0m\u001b[1;33m,\u001b[0m \u001b[0mself\u001b[0m\u001b[1;33m.\u001b[0m\u001b[0mfinal_dest\u001b[0m\u001b[1;33m)\u001b[0m                                                       \u001b[1;31m# Save to final destination, eg:on the NAS\u001b[0m\u001b[1;33m\u001b[0m\u001b[1;33m\u001b[0m\u001b[0m\n\u001b[0m\u001b[0;32m    303\u001b[0m \u001b[1;33m\u001b[0m\u001b[0m\n\u001b[0;32m    304\u001b[0m     \u001b[1;32mdef\u001b[0m \u001b[0mprepare_folders\u001b[0m\u001b[1;33m(\u001b[0m\u001b[0mself\u001b[0m\u001b[1;33m,\u001b[0m\u001b[0mnum\u001b[0m\u001b[1;33m)\u001b[0m\u001b[1;33m:\u001b[0m\u001b[1;33m\u001b[0m\u001b[1;33m\u001b[0m\u001b[0m\n",
      "\u001b[1;32mC:\\ProgramData\\Anaconda3\\envs\\tf_gpu\\lib\\shutil.py\u001b[0m in \u001b[0;36mcopytree\u001b[1;34m(src, dst, symlinks, ignore, copy_function, ignore_dangling_symlinks)\u001b[0m\n\u001b[0;32m    322\u001b[0m         \u001b[0mignored_names\u001b[0m \u001b[1;33m=\u001b[0m \u001b[0mset\u001b[0m\u001b[1;33m(\u001b[0m\u001b[1;33m)\u001b[0m\u001b[1;33m\u001b[0m\u001b[1;33m\u001b[0m\u001b[0m\n\u001b[0;32m    323\u001b[0m \u001b[1;33m\u001b[0m\u001b[0m\n\u001b[1;32m--> 324\u001b[1;33m     \u001b[0mos\u001b[0m\u001b[1;33m.\u001b[0m\u001b[0mmakedirs\u001b[0m\u001b[1;33m(\u001b[0m\u001b[0mdst\u001b[0m\u001b[1;33m)\u001b[0m\u001b[1;33m\u001b[0m\u001b[1;33m\u001b[0m\u001b[0m\n\u001b[0m\u001b[0;32m    325\u001b[0m     \u001b[0merrors\u001b[0m \u001b[1;33m=\u001b[0m \u001b[1;33m[\u001b[0m\u001b[1;33m]\u001b[0m\u001b[1;33m\u001b[0m\u001b[1;33m\u001b[0m\u001b[0m\n\u001b[0;32m    326\u001b[0m     \u001b[1;32mfor\u001b[0m \u001b[0mname\u001b[0m \u001b[1;32min\u001b[0m \u001b[0mnames\u001b[0m\u001b[1;33m:\u001b[0m\u001b[1;33m\u001b[0m\u001b[1;33m\u001b[0m\u001b[0m\n",
      "\u001b[1;32mC:\\ProgramData\\Anaconda3\\envs\\tf_gpu\\lib\\os.py\u001b[0m in \u001b[0;36mmakedirs\u001b[1;34m(name, mode, exist_ok)\u001b[0m\n\u001b[0;32m    221\u001b[0m             \u001b[1;32mreturn\u001b[0m\u001b[1;33m\u001b[0m\u001b[1;33m\u001b[0m\u001b[0m\n\u001b[0;32m    222\u001b[0m     \u001b[1;32mtry\u001b[0m\u001b[1;33m:\u001b[0m\u001b[1;33m\u001b[0m\u001b[1;33m\u001b[0m\u001b[0m\n\u001b[1;32m--> 223\u001b[1;33m         \u001b[0mmkdir\u001b[0m\u001b[1;33m(\u001b[0m\u001b[0mname\u001b[0m\u001b[1;33m,\u001b[0m \u001b[0mmode\u001b[0m\u001b[1;33m)\u001b[0m\u001b[1;33m\u001b[0m\u001b[1;33m\u001b[0m\u001b[0m\n\u001b[0m\u001b[0;32m    224\u001b[0m     \u001b[1;32mexcept\u001b[0m \u001b[0mOSError\u001b[0m\u001b[1;33m:\u001b[0m\u001b[1;33m\u001b[0m\u001b[1;33m\u001b[0m\u001b[0m\n\u001b[0;32m    225\u001b[0m         \u001b[1;31m# Cannot rely on checking for EEXIST, since the operating system\u001b[0m\u001b[1;33m\u001b[0m\u001b[1;33m\u001b[0m\u001b[1;33m\u001b[0m\u001b[0m\n",
      "\u001b[1;31mFileExistsError\u001b[0m: [WinError 183] Impossible de créer un fichier déjà existant: 'Z:/Analyses/processings/Exp74_april_27th_2022'"
     ]
    }
   ],
   "source": [
    "fp.segm_track_list_tif(list_tif=positions, name_mod='Sd32')    # Segment and track"
   ]
  },
  {
   "cell_type": "code",
   "execution_count": null,
   "metadata": {},
   "outputs": [],
   "source": []
  }
 ],
 "metadata": {
  "kernelspec": {
   "display_name": "Python 3",
   "language": "python",
   "name": "python3"
  },
  "language_info": {
   "codemirror_mode": {
    "name": "ipython",
    "version": 3
   },
   "file_extension": ".py",
   "mimetype": "text/x-python",
   "name": "python",
   "nbconvert_exporter": "python",
   "pygments_lexer": "ipython3",
   "version": "3.7.7"
  }
 },
 "nbformat": 4,
 "nbformat_minor": 4
}
