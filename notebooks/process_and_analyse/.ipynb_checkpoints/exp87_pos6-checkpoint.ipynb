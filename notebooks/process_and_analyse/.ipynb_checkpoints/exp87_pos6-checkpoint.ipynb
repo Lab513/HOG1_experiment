{
 "cells": [
  {
   "cell_type": "code",
   "execution_count": 1,
   "metadata": {},
   "outputs": [
    {
     "name": "stdout",
     "output_type": "stream",
     "text": [
      "C:\\Users\\Lionel\\Desktop\\Tools\\unet\n"
     ]
    }
   ],
   "source": [
    "import os\n",
    "op = os.path\n",
    "opd, opb, opj = op.dirname, op.basename, op.join\n",
    "os.chdir( opj( opd( opd( os.getcwd() ) ), 'unet' ) )                # go in unet folder\n",
    "print(os.getcwd())"
   ]
  },
  {
   "cell_type": "code",
   "execution_count": 2,
   "metadata": {
    "scrolled": false
   },
   "outputs": [],
   "source": [
    "from modules_analyse.full_processing import FULL_PROC\n",
    "from utils.sep_tif_layers import SEP_TIF_LAYERS as STL"
   ]
  },
  {
   "cell_type": "markdown",
   "metadata": {},
   "source": [
    "## Make composite video"
   ]
  },
  {
   "cell_type": "raw",
   "metadata": {},
   "source": [
    "stl = STL()\n",
    "stl.make_composite(['frame0_t', 'frame0_rfp_t', 'frame0_gfp_t'], 'composite00.tif')"
   ]
  },
  {
   "cell_type": "markdown",
   "metadata": {},
   "source": [
    "## Data"
   ]
  },
  {
   "cell_type": "code",
   "execution_count": 3,
   "metadata": {},
   "outputs": [],
   "source": [
    "addr_results =  'exp87_pos6'      # exp 87\n",
    "root_file = 'GrowthRate520191016_84027_PM_f00'\n",
    "list_layers = ['BF', 'fluo1', 'fluo2']"
   ]
  },
  {
   "cell_type": "markdown",
   "metadata": {},
   "source": [
    "## Destination"
   ]
  },
  {
   "cell_type": "code",
   "execution_count": 4,
   "metadata": {},
   "outputs": [],
   "source": [
    "temp_dest = 'C:/Users/Lionel/Desktop/processings/exp87_pos6'\n",
    "final_dest = 'C:/Users/Lionel/Desktop/processings/exp87_pos6_nov16th2021_1720'"
   ]
  },
  {
   "cell_type": "markdown",
   "metadata": {},
   "source": [
    "## Create fp"
   ]
  },
  {
   "cell_type": "code",
   "execution_count": 5,
   "metadata": {
    "scrolled": false
   },
   "outputs": [
    {
     "name": "stdout",
     "output_type": "stream",
     "text": [
      "Temporary destination folder for processings is C:/Users/Lionel/Desktop/processings/exp87_pos6 \n",
      "addr_curr_mod is settings\\curr_model.yaml\n"
     ]
    }
   ],
   "source": [
    "fp = FULL_PROC( addr_results, root_file, list_layers, final_dest, load_data=False, temp_dest=temp_dest )      # , load_data=False, temp_dest='proc_21-10-2021-11-56'"
   ]
  },
  {
   "cell_type": "markdown",
   "metadata": {},
   "source": [
    "## files to process"
   ]
  },
  {
   "cell_type": "code",
   "execution_count": 6,
   "metadata": {},
   "outputs": [],
   "source": [
    "interval = range(6,7)"
   ]
  },
  {
   "cell_type": "markdown",
   "metadata": {},
   "source": [
    "## Extract layers"
   ]
  },
  {
   "cell_type": "code",
   "execution_count": 7,
   "metadata": {},
   "outputs": [
    {
     "name": "stdout",
     "output_type": "stream",
     "text": [
      "Instantiate FIND_BAD_PICS \n",
      "folder name for extractions is temp\\GrowthRate520191016_84027 PM_f0006 \n"
     ]
    },
    {
     "ename": "FileNotFoundError",
     "evalue": "[Errno 2] No such file or directory: 'temp\\\\GrowthRate520191016_84027 PM_f0006.tif'",
     "output_type": "error",
     "traceback": [
      "\u001b[1;31m---------------------------------------------------------------------------\u001b[0m",
      "\u001b[1;31mFileNotFoundError\u001b[0m                         Traceback (most recent call last)",
      "\u001b[1;32m<ipython-input-7-fdb441bfcee3>\u001b[0m in \u001b[0;36m<module>\u001b[1;34m\u001b[0m\n\u001b[1;32m----> 1\u001b[1;33m \u001b[0mfp\u001b[0m\u001b[1;33m.\u001b[0m\u001b[0mextract_layers_of_list_tif\u001b[0m\u001b[1;33m(\u001b[0m\u001b[0mlist_tif\u001b[0m\u001b[1;33m=\u001b[0m\u001b[0minterval\u001b[0m\u001b[1;33m)\u001b[0m \u001b[1;31m# , merge='_t00000'\u001b[0m\u001b[1;33m\u001b[0m\u001b[1;33m\u001b[0m\u001b[0m\n\u001b[0m",
      "\u001b[1;32m~\\Desktop\\Tools\\unet\\modules_analyse\\full_processing.py\u001b[0m in \u001b[0;36mextract_layers_of_list_tif\u001b[1;34m(self, list_tif, cpdest, merge)\u001b[0m\n\u001b[0;32m    203\u001b[0m             \u001b[0mstl\u001b[0m \u001b[1;33m=\u001b[0m \u001b[0mSTL\u001b[0m\u001b[1;33m(\u001b[0m \u001b[0maddr0\u001b[0m\u001b[1;33m,\u001b[0m \u001b[0mself\u001b[0m\u001b[1;33m.\u001b[0m\u001b[0mtemp_dest\u001b[0m \u001b[1;33m)\u001b[0m                                                             \u001b[1;31m# separate tif layers\u001b[0m\u001b[1;33m\u001b[0m\u001b[1;33m\u001b[0m\u001b[0m\n\u001b[0;32m    204\u001b[0m             \u001b[0mstl\u001b[0m\u001b[1;33m.\u001b[0m\u001b[0mlist_layers\u001b[0m \u001b[1;33m=\u001b[0m \u001b[0mself\u001b[0m\u001b[1;33m.\u001b[0m\u001b[0mlist_layers\u001b[0m                                                             \u001b[1;31m#['BF','fluo1'] #,'fluo2'\u001b[0m\u001b[1;33m\u001b[0m\u001b[1;33m\u001b[0m\u001b[0m\n\u001b[1;32m--> 205\u001b[1;33m             \u001b[0mstl\u001b[0m\u001b[1;33m.\u001b[0m\u001b[0mextract_all_layers\u001b[0m\u001b[1;33m(\u001b[0m \u001b[0mrem_bad_pics\u001b[0m\u001b[1;33m=\u001b[0m\u001b[1;32mTrue\u001b[0m\u001b[1;33m,\u001b[0m \u001b[0mkeep_ref_vid\u001b[0m\u001b[1;33m=\u001b[0m\u001b[1;32mTrue\u001b[0m \u001b[1;33m)\u001b[0m\u001b[1;33m\u001b[0m\u001b[1;33m\u001b[0m\u001b[0m\n\u001b[0m\u001b[0;32m    206\u001b[0m             \u001b[1;32mif\u001b[0m \u001b[0mcpdest\u001b[0m \u001b[1;33m:\u001b[0m \u001b[0mstl\u001b[0m\u001b[1;33m.\u001b[0m\u001b[0mcp_to_dest\u001b[0m\u001b[1;33m(\u001b[0m\u001b[1;33m)\u001b[0m                                                                   \u001b[1;31m# copy the extractions to the temporary destination\u001b[0m\u001b[1;33m\u001b[0m\u001b[1;33m\u001b[0m\u001b[0m\n\u001b[0;32m    207\u001b[0m             \u001b[0mself\u001b[0m\u001b[1;33m.\u001b[0m\u001b[0mcopy_comp_tif_close_to_extract\u001b[0m\u001b[1;33m(\u001b[0m\u001b[0maddr0\u001b[0m\u001b[1;33m)\u001b[0m\u001b[1;33m\u001b[0m\u001b[1;33m\u001b[0m\u001b[0m\n",
      "\u001b[1;32m~\\Desktop\\Tools\\unet\\utils\\sep_tif_layers.py\u001b[0m in \u001b[0;36mextract_all_layers\u001b[1;34m(self, rem_bad_pics, keep_ref_vid)\u001b[0m\n\u001b[0;32m    165\u001b[0m         \u001b[0mself\u001b[0m\u001b[1;33m.\u001b[0m\u001b[0mmake_dir_with_file_name\u001b[0m\u001b[1;33m(\u001b[0m\u001b[1;33m)\u001b[0m                                            \u001b[1;31m# folder with the name of the dataset\u001b[0m\u001b[1;33m\u001b[0m\u001b[1;33m\u001b[0m\u001b[0m\n\u001b[0;32m    166\u001b[0m         \u001b[1;32mfor\u001b[0m \u001b[0mlayer\u001b[0m \u001b[1;32min\u001b[0m \u001b[0mself\u001b[0m\u001b[1;33m.\u001b[0m\u001b[0mlist_layers\u001b[0m\u001b[1;33m:\u001b[0m                             \u001b[1;31m# go through the layers\u001b[0m\u001b[1;33m\u001b[0m\u001b[1;33m\u001b[0m\u001b[0m\n\u001b[1;32m--> 167\u001b[1;33m             \u001b[0mself\u001b[0m\u001b[1;33m.\u001b[0m\u001b[0mextract_layer\u001b[0m\u001b[1;33m(\u001b[0m \u001b[0mlayer\u001b[0m\u001b[1;33m,\u001b[0m \u001b[0mrem_bad_pics\u001b[0m\u001b[1;33m=\u001b[0m\u001b[0mrem_bad_pics\u001b[0m \u001b[1;33m)\u001b[0m   \u001b[1;31m# extract the pics for one layer\u001b[0m\u001b[1;33m\u001b[0m\u001b[1;33m\u001b[0m\u001b[0m\n\u001b[0m\u001b[0;32m    168\u001b[0m \u001b[1;33m\u001b[0m\u001b[0m\n\u001b[0;32m    169\u001b[0m     \u001b[1;32mdef\u001b[0m \u001b[0mtake_num_frame_png_layer\u001b[0m\u001b[1;33m(\u001b[0m\u001b[0mself\u001b[0m\u001b[1;33m,\u001b[0m\u001b[0melem\u001b[0m\u001b[1;33m)\u001b[0m\u001b[1;33m:\u001b[0m\u001b[1;33m\u001b[0m\u001b[1;33m\u001b[0m\u001b[0m\n",
      "\u001b[1;32m~\\Desktop\\Tools\\unet\\utils\\sep_tif_layers.py\u001b[0m in \u001b[0;36mextract_layer\u001b[1;34m(self, layer, video, rem_bad_pics, clear, debug)\u001b[0m\n\u001b[0;32m    147\u001b[0m         \u001b[0mself\u001b[0m\u001b[1;33m.\u001b[0m\u001b[0mmake_layer_folder\u001b[0m\u001b[1;33m(\u001b[0m\u001b[1;33m)\u001b[0m\u001b[1;33m\u001b[0m\u001b[1;33m\u001b[0m\u001b[0m\n\u001b[0;32m    148\u001b[0m         \u001b[0mnum_lay\u001b[0m \u001b[1;33m=\u001b[0m \u001b[0mself\u001b[0m\u001b[1;33m.\u001b[0m\u001b[0mlist_layers\u001b[0m\u001b[1;33m.\u001b[0m\u001b[0mindex\u001b[0m\u001b[1;33m(\u001b[0m\u001b[0mlayer\u001b[0m\u001b[1;33m)\u001b[0m               \u001b[1;31m# layer index\u001b[0m\u001b[1;33m\u001b[0m\u001b[1;33m\u001b[0m\u001b[0m\n\u001b[1;32m--> 149\u001b[1;33m         \u001b[0mself\u001b[0m\u001b[1;33m.\u001b[0m\u001b[0mfilm\u001b[0m \u001b[1;33m=\u001b[0m \u001b[0mImage\u001b[0m\u001b[1;33m.\u001b[0m\u001b[0mopen\u001b[0m\u001b[1;33m(\u001b[0m\u001b[0mself\u001b[0m\u001b[1;33m.\u001b[0m\u001b[0maddr\u001b[0m\u001b[1;33m)\u001b[0m                     \u001b[1;31m# load the movie\u001b[0m\u001b[1;33m\u001b[0m\u001b[1;33m\u001b[0m\u001b[0m\n\u001b[0m\u001b[0;32m    150\u001b[0m         \u001b[0mstep\u001b[0m \u001b[1;33m=\u001b[0m \u001b[0mlen\u001b[0m\u001b[1;33m(\u001b[0m\u001b[0mself\u001b[0m\u001b[1;33m.\u001b[0m\u001b[0mlist_layers\u001b[0m\u001b[1;33m)\u001b[0m\u001b[1;33m\u001b[0m\u001b[1;33m\u001b[0m\u001b[0m\n\u001b[0;32m    151\u001b[0m         \u001b[1;32mfor\u001b[0m \u001b[0mi\u001b[0m \u001b[1;32min\u001b[0m \u001b[0mrange\u001b[0m\u001b[1;33m(\u001b[0m\u001b[0mnum_lay\u001b[0m\u001b[1;33m,\u001b[0m \u001b[0mself\u001b[0m\u001b[1;33m.\u001b[0m\u001b[0mfilm\u001b[0m\u001b[1;33m.\u001b[0m\u001b[0mn_frames\u001b[0m\u001b[1;33m,\u001b[0m \u001b[0mstep\u001b[0m\u001b[1;33m)\u001b[0m\u001b[1;33m:\u001b[0m               \u001b[1;31m# go throught the pics\u001b[0m\u001b[1;33m\u001b[0m\u001b[1;33m\u001b[0m\u001b[0m\n",
      "\u001b[1;32mC:\\ProgramData\\Anaconda3\\envs\\tf_gpu\\lib\\site-packages\\PIL\\Image.py\u001b[0m in \u001b[0;36mopen\u001b[1;34m(fp, mode)\u001b[0m\n\u001b[0;32m   2876\u001b[0m \u001b[1;33m\u001b[0m\u001b[0m\n\u001b[0;32m   2877\u001b[0m     \u001b[1;32mif\u001b[0m \u001b[0mfilename\u001b[0m\u001b[1;33m:\u001b[0m\u001b[1;33m\u001b[0m\u001b[1;33m\u001b[0m\u001b[0m\n\u001b[1;32m-> 2878\u001b[1;33m         \u001b[0mfp\u001b[0m \u001b[1;33m=\u001b[0m \u001b[0mbuiltins\u001b[0m\u001b[1;33m.\u001b[0m\u001b[0mopen\u001b[0m\u001b[1;33m(\u001b[0m\u001b[0mfilename\u001b[0m\u001b[1;33m,\u001b[0m \u001b[1;34m\"rb\"\u001b[0m\u001b[1;33m)\u001b[0m\u001b[1;33m\u001b[0m\u001b[1;33m\u001b[0m\u001b[0m\n\u001b[0m\u001b[0;32m   2879\u001b[0m         \u001b[0mexclusive_fp\u001b[0m \u001b[1;33m=\u001b[0m \u001b[1;32mTrue\u001b[0m\u001b[1;33m\u001b[0m\u001b[1;33m\u001b[0m\u001b[0m\n\u001b[0;32m   2880\u001b[0m \u001b[1;33m\u001b[0m\u001b[0m\n",
      "\u001b[1;31mFileNotFoundError\u001b[0m: [Errno 2] No such file or directory: 'temp\\\\GrowthRate520191016_84027 PM_f0006.tif'"
     ]
    }
   ],
   "source": [
    "fp.extract_layers_of_list_tif(list_tif=interval) # , merge='_t00000'"
   ]
  },
  {
   "cell_type": "markdown",
   "metadata": {},
   "source": [
    "## Segment and track"
   ]
  },
  {
   "cell_type": "code",
   "execution_count": 11,
   "metadata": {},
   "outputs": [
    {
     "name": "stdout",
     "output_type": "stream",
     "text": [
      "temporary destination, self.temp_dest is C:/Users/Lionel/Desktop/processings/mda_HOG1_rising_a \n",
      "final destination is C:/Users/Lionel/Desktop/processings/cyber_hog1_nov15th2021_1905\n",
      "numf is 00 \n",
      "self.temp_dest is C:/Users/Lionel/Desktop/processings/mda_HOG1_rising_a \n",
      "search_pattern is C:/Users/Lionel/Desktop/processings/mda_HOG1_rising_a/composite00/*cleaned_BF.avi \n",
      "addr_clean is C:/Users/Lionel/Desktop/processings/mda_HOG1_rising_a/composite00\\movie_cleaned_BF.avi \n",
      "comm is python detect_cells.py -f C:/Users/Lionel/Desktop/processings/mda_HOG1_rising_a/composite00\\movie_cleaned_BF.avi -m Sd32 --video --track all --num_cell --save_in C:/Users/Lionel/Desktop/processings/mda_HOG1_rising_a/composite00                             --kind_track min --nb_imgs_proc 160 \n",
      "os.getcwd() is C:\\Users\\Lionel\\Desktop\\Tools\\unet\n",
      "time elapsed for segm and track for pos 0 is 18.2 min\n",
      "file or folder is C:/Users/Lionel/Desktop/processings/mda_HOG1_rising_a/composite00/processings\\proc_15-11-2021-19-15\\movie_tracking.avi \n",
      "file or folder is C:/Users/Lionel/Desktop/processings/mda_HOG1_rising_a/composite00/processings\\proc_15-11-2021-19-15\\pkl_bt_cntrs_tracking.pkl \n",
      "file or folder is C:/Users/Lionel/Desktop/processings/mda_HOG1_rising_a/composite00/processings\\proc_15-11-2021-19-15\\pkl_cntrs_pred_tracking.pkl \n",
      "file or folder is C:/Users/Lionel/Desktop/processings/mda_HOG1_rising_a/composite00/processings\\proc_15-11-2021-19-15\\pkl_cntrs_tracking.pkl \n",
      "file or folder is C:/Users/Lionel/Desktop/processings/mda_HOG1_rising_a/composite00/processings\\proc_15-11-2021-19-15\\Sd32_track_15-11-2021-19-15 \n"
     ]
    }
   ],
   "source": [
    "fp.segm_track_list_tif(list_tif=interval, name_mod='Sd32', nb_imgs_proc=160)"
   ]
  },
  {
   "cell_type": "code",
   "execution_count": null,
   "metadata": {},
   "outputs": [],
   "source": []
  },
  {
   "cell_type": "markdown",
   "metadata": {},
   "source": [
    "## Proc time"
   ]
  },
  {
   "cell_type": "markdown",
   "metadata": {},
   "source": [
    "Total estimation time for processing 25 videos of 120 imgs is\n",
    "\n",
    "* 2h40 with unet\n",
    "* 3h30 with stardist.. "
   ]
  }
 ],
 "metadata": {
  "kernelspec": {
   "display_name": "Python 3",
   "language": "python",
   "name": "python3"
  },
  "language_info": {
   "codemirror_mode": {
    "name": "ipython",
    "version": 3
   },
   "file_extension": ".py",
   "mimetype": "text/x-python",
   "name": "python",
   "nbconvert_exporter": "python",
   "pygments_lexer": "ipython3",
   "version": "3.7.7"
  }
 },
 "nbformat": 4,
 "nbformat_minor": 4
}
