{
 "cells": [
  {
   "cell_type": "code",
   "execution_count": null,
   "metadata": {},
   "outputs": [],
   "source": [
    "import os\n",
    "op = os.path\n",
    "opd, opb, opj = op.dirname, op.basename, op.join\n",
    "os.chdir( opj( opd( opd( os.getcwd() ) ), 'unet' ) )                # go in unet folder\n",
    "print(os.getcwd())"
   ]
  },
  {
   "cell_type": "code",
   "execution_count": null,
   "metadata": {
    "scrolled": false
   },
   "outputs": [],
   "source": [
    "from modules_analyse.full_processing import FULL_PROC\n",
    "from utils.sep_tif_layers import SEP_TIF_LAYERS as STL"
   ]
  },
  {
   "cell_type": "markdown",
   "metadata": {},
   "source": [
    "## Make composite video"
   ]
  },
  {
   "cell_type": "code",
   "execution_count": null,
   "metadata": {},
   "outputs": [],
   "source": [
    "stl = STL()\n",
    "stl.make_composite('frame0_t', 'frame0_rfp_t', 'frame0_gfp_t')"
   ]
  },
  {
   "cell_type": "markdown",
   "metadata": {},
   "source": [
    "## Data"
   ]
  },
  {
   "cell_type": "code",
   "execution_count": null,
   "metadata": {},
   "outputs": [],
   "source": [
    "addr_results =  'Z:/Celine_Cordier/DrWho/Exp74_07232019/GrowthRate420190723_52103 PM_20190724_51918 AM/GrowthRate420190723_52103 PM_f00'      # exp 74\n",
    "list_layers = ['BF', 'fluo1', 'fluo2']"
   ]
  },
  {
   "cell_type": "markdown",
   "metadata": {},
   "source": [
    "## Destination"
   ]
  },
  {
   "cell_type": "code",
   "execution_count": null,
   "metadata": {},
   "outputs": [],
   "source": [
    "final_dest = 'C:/Users/Lionel/Desktop/processings/Exp74_extract_22-10-2021-20-11'"
   ]
  },
  {
   "cell_type": "markdown",
   "metadata": {},
   "source": [
    "## Create fp"
   ]
  },
  {
   "cell_type": "code",
   "execution_count": 4,
   "metadata": {
    "scrolled": false
   },
   "outputs": [
    {
     "name": "stdout",
     "output_type": "stream",
     "text": [
      "Temporary destination folder for processings is C:/Users/Lionel/Desktop/processings\\proc_22-10-2021-18-45 \n",
      "addr_curr_mod is settings\\curr_model.yaml\n"
     ]
    }
   ],
   "source": [
    "fp = FULL_PROC(addr_results=addr_results, list_layers, final_dest, load_data=False, temp_dest='proc_22-10-2021-18-45' )      # , load_data=False, temp_dest='proc_21-10-2021-11-56'"
   ]
  },
  {
   "cell_type": "markdown",
   "metadata": {},
   "source": [
    "## files to process"
   ]
  },
  {
   "cell_type": "code",
   "execution_count": 5,
   "metadata": {},
   "outputs": [],
   "source": [
    "interval = range(0,1)"
   ]
  },
  {
   "cell_type": "markdown",
   "metadata": {},
   "source": [
    "## Extract layers"
   ]
  },
  {
   "cell_type": "code",
   "execution_count": null,
   "metadata": {
    "scrolled": true
   },
   "outputs": [],
   "source": [
    "fp.extract_layers_of_list_tif(list_tif=interval, merge='_t00000')"
   ]
  },
  {
   "cell_type": "markdown",
   "metadata": {},
   "source": [
    "## Segment and track"
   ]
  },
  {
   "cell_type": "code",
   "execution_count": 6,
   "metadata": {},
   "outputs": [
    {
     "name": "stdout",
     "output_type": "stream",
     "text": [
      "temporary destination, self.temp_dest is C:/Users/Lionel/Desktop/processings\\proc_22-10-2021-18-45 \n",
      "final destination is C:/Users/Lionel/Desktop/processings/Exp74_extract_22-10-2021-20-11\n",
      "numf is 00 \n",
      "comm is python detect_cells.py -f C:/Users/Lionel/Desktop/processings\\proc_22-10-2021-18-45\\GrowthRate420190723_52103_PM_f0000\\movie_cleaned_BF.avi -m Sd32 --video --track all --num_cell --save_in C:/Users/Lionel/Desktop/processings\\proc_22-10-2021-18-45\\GrowthRate420190723_52103_PM_f0000\\processings --kind_track min \n",
      "os.getcwd() is C:\\Users\\Lionel\\Desktop\\Tools\\unet\n",
      "time elapsed for segm and track for pos 0 is 12.5 min\n"
     ]
    }
   ],
   "source": [
    "fp.segm_track_list_tif(list_tif=interval, name_mod='Sd32')"
   ]
  },
  {
   "cell_type": "markdown",
   "metadata": {},
   "source": [
    "## Proc time"
   ]
  },
  {
   "cell_type": "markdown",
   "metadata": {},
   "source": [
    "Total estimation time for processing 25 videos of 120 imgs is\n",
    "\n",
    "* 2h40 with unet\n",
    "* 3h30 with stardist.. "
   ]
  }
 ],
 "metadata": {
  "kernelspec": {
   "display_name": "Python 3",
   "language": "python",
   "name": "python3"
  },
  "language_info": {
   "codemirror_mode": {
    "name": "ipython",
    "version": 3
   },
   "file_extension": ".py",
   "mimetype": "text/x-python",
   "name": "python",
   "nbconvert_exporter": "python",
   "pygments_lexer": "ipython3",
   "version": "3.7.7"
  }
 },
 "nbformat": 4,
 "nbformat_minor": 4
}
