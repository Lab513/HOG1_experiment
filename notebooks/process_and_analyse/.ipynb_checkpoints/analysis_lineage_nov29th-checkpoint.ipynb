{
 "cells": [
  {
   "cell_type": "raw",
   "metadata": {},
   "source": [
    "For performing an extraction, copy this file adding '_suffix' to the name of the jupyter notebook and work in this new file. "
   ]
  },
  {
   "cell_type": "markdown",
   "metadata": {},
   "source": [
    "## Add path"
   ]
  },
  {
   "cell_type": "code",
   "execution_count": 1,
   "metadata": {},
   "outputs": [],
   "source": [
    "import os,sys\n",
    "op = os.path\n",
    "opb,opd = op.basename, op.dirname\n",
    "opj,opa = op.join, op.abspath\n",
    "path_unet = opj( opd( opd( os.getcwd() ) ), 'unet')\n",
    "sys.path.append(path_unet)                                      # add path"
   ]
  },
  {
   "cell_type": "code",
   "execution_count": 2,
   "metadata": {
    "scrolled": true
   },
   "outputs": [],
   "source": [
    "#%matplotlib\n",
    "import glob\n",
    "from time import time\n",
    "import numpy as np\n",
    "from matplotlib import pyplot as plt\n",
    "\n",
    "from analyse_results import ANALYSE_RESULTS\n",
    "from utils.sep_tif_layers import SEP_TIF_LAYERS as STL"
   ]
  },
  {
   "cell_type": "markdown",
   "metadata": {},
   "source": [
    "## Address folder of the processing"
   ]
  },
  {
   "cell_type": "code",
   "execution_count": 3,
   "metadata": {},
   "outputs": [],
   "source": [
    "addr_results = 'C:/Users/Lionel/Desktop/processings/proc_29-11-2021-17-58_lineage'"
   ]
  },
  {
   "cell_type": "markdown",
   "metadata": {},
   "source": [
    "## whole cell"
   ]
  },
  {
   "cell_type": "code",
   "execution_count": 4,
   "metadata": {},
   "outputs": [
    {
     "name": "stdout",
     "output_type": "stream",
     "text": [
      "C:\\Users\\Lionel\\Desktop\\Tools\\jupyter_for_analysis\\notebooks\n",
      "Cannot find colors\n",
      "No time axis found..\n",
      "self.addr_results is C:/Users/Lionel/Desktop/processings/proc_29-11-2021-17-58_lineage !!!\n",
      "addr_tif_res is C:/Users/Lionel/Desktop/processings/proc_29-11-2021-17-58_lineage\\lineage2.tif\n",
      "self.addr_tif C:/Users/Lionel/Desktop/processings/proc_29-11-2021-17-58_lineage\\lineage2.tif\n",
      "self.film.shape is (118, 512, 512) \n",
      "using load_shape3\n",
      "step is 2\n",
      "Loading col 1\n",
      "self.list_imgs_BF.shape is (59, 512, 512) \n",
      "self.list_imgs_fluo1.shape is (59, 512, 512) \n",
      "Cannot show the shape of list_imgs_fluo2\n",
      "In retrieve_size_from_BF, self.size is 512 \n",
      "addr_pkl C:/Users/Lionel/Desktop/processings/proc_29-11-2021-17-58_lineage/processings/pkl_cntrs_*.pkl\n",
      "glob.glob( addr_pkl ) ['C:/Users/Lionel/Desktop/processings/proc_29-11-2021-17-58_lineage/processings\\\\pkl_cntrs_pred_tracking.pkl', 'C:/Users/Lionel/Desktop/processings/proc_29-11-2021-17-58_lineage/processings\\\\pkl_cntrs_tracking.pkl']\n",
      "root_cntrs C:/Users/Lionel/Desktop/processings/proc_29-11-2021-17-58_lineage/processings\n",
      "addr_cntrs C:/Users/Lionel/Desktop/processings/proc_29-11-2021-17-58_lineage/processings\\pkl_cntrs_tracking.pkl\n",
      "self.time_axis does not exist..\n",
      "Cannot find self.rem_pics, self.rem_pics set to [] \n",
      "Replacing bad pictures with previous ones...\n",
      "path_visu is C:\\Users\\Lionel\\Desktop\\Tools\\simple_visu\\static\\pictures\n",
      "Cannot erase the folder BF\n",
      "Copied BF in visu..\n",
      "path_visu is C:\\Users\\Lionel\\Desktop\\Tools\\simple_visu\\static\\pictures\n",
      "Cannot erase the folder fluo1\n",
      "Copied fluo1 in visu..\n",
      "path_visu is C:\\Users\\Lionel\\Desktop\\Tools\\simple_visu\\static\\pictures\n",
      "Cannot erase the folder fluo2\n",
      "Cannot copy the folder in visu..\n",
      "path_track is C:/Users/Lionel/Desktop/processings/proc_29-11-2021-17-58_lineage\\processings\\*_track_*\n",
      "addr_track_folder is C:/Users/Lionel/Desktop/processings/proc_29-11-2021-17-58_lineage\\processings\\Sd32_track_29-11-2021-17-58\n",
      "path_visu is C:\\Users\\Lionel\\Desktop\\Tools\\simple_visu\\static\\pictures\n",
      "Copied track in visu..\n",
      "path_visu is C:\\Users\\Lionel\\Desktop\\Tools\\simple_visu\\static\\pictures\n",
      "Copied lineage in visu..\n",
      "All the folders for visu are ready !!!\n"
     ]
    }
   ],
   "source": [
    "ar = ANALYSE_RESULTS( addr_results=addr_results, load_fluo=[1], nb_fluo=1, kind_track='simple', \n",
    "          name_exp= 'exp_lin', unique_csv=False, load_visu=True  )"
   ]
  },
  {
   "cell_type": "code",
   "execution_count": 5,
   "metadata": {
    "scrolled": false
   },
   "outputs": [
    {
     "data": {
      "text/html": [
       "\n",
       "        <iframe\n",
       "            width=\"1200\"\n",
       "            height=\"700\"\n",
       "            src=\"http://10.40.12.86:5975\"\n",
       "            frameborder=\"0\"\n",
       "            allowfullscreen\n",
       "        ></iframe>\n",
       "        "
      ],
      "text/plain": [
       "<IPython.lib.display.IFrame at 0x1a883d4bec8>"
      ]
     },
     "metadata": {},
     "output_type": "display_data"
    }
   ],
   "source": [
    "ar.display()"
   ]
  },
  {
   "cell_type": "code",
   "execution_count": null,
   "metadata": {},
   "outputs": [],
   "source": [
    "ar.visu('fluo whole cell')"
   ]
  },
  {
   "cell_type": "code",
   "execution_count": null,
   "metadata": {},
   "outputs": [],
   "source": [
    "ar.visu('area')"
   ]
  },
  {
   "cell_type": "code",
   "execution_count": null,
   "metadata": {},
   "outputs": [],
   "source": [
    "ar.visu('colocalization', csv=True)"
   ]
  }
 ],
 "metadata": {
  "kernelspec": {
   "display_name": "Python 3",
   "language": "python",
   "name": "python3"
  },
  "language_info": {
   "codemirror_mode": {
    "name": "ipython",
    "version": 3
   },
   "file_extension": ".py",
   "mimetype": "text/x-python",
   "name": "python",
   "nbconvert_exporter": "python",
   "pygments_lexer": "ipython3",
   "version": "3.7.7"
  }
 },
 "nbformat": 4,
 "nbformat_minor": 4
}
