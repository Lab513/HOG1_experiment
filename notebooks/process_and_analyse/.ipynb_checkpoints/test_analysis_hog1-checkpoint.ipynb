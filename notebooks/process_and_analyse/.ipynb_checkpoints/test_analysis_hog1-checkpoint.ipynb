{
 "cells": [
  {
   "cell_type": "raw",
   "metadata": {},
   "source": [
    "For performing an extraction, copy this file adding '_suffix' to the name of the jupyter notebook and work in this new file. "
   ]
  },
  {
   "cell_type": "markdown",
   "metadata": {},
   "source": [
    "## Add path"
   ]
  },
  {
   "cell_type": "code",
   "execution_count": null,
   "metadata": {},
   "outputs": [],
   "source": [
    "import os,sys\n",
    "op = os.path\n",
    "opb,opd = op.basename, op.dirname\n",
    "opj,opa = op.join, op.abspath\n",
    "path_unet = opj( opd( opd( os.getcwd() ) ), 'unet')\n",
    "sys.path.append(path_unet)                                      # add path"
   ]
  },
  {
   "cell_type": "code",
   "execution_count": null,
   "metadata": {
    "scrolled": true
   },
   "outputs": [],
   "source": [
    "#%matplotlib\n",
    "import glob\n",
    "from time import time\n",
    "import numpy as np\n",
    "from matplotlib import pyplot as plt\n",
    "\n",
    "from analyse_results import ANALYSE_RESULTS\n",
    "from utils.sep_tif_layers import SEP_TIF_LAYERS as STL"
   ]
  },
  {
   "cell_type": "markdown",
   "metadata": {},
   "source": [
    "## num experiment"
   ]
  },
  {
   "cell_type": "code",
   "execution_count": null,
   "metadata": {},
   "outputs": [],
   "source": [
    "num = 0               "
   ]
  },
  {
   "cell_type": "markdown",
   "metadata": {},
   "source": [
    "## Address folder of the processing"
   ]
  },
  {
   "cell_type": "code",
   "execution_count": null,
   "metadata": {},
   "outputs": [],
   "source": [
    "base_name_results = 'C:/Users/Lionel/Desktop/processings/mda_HOG1_rising_a/composite'\n",
    "addr_results = f'{ base_name_results }{ str(num).zfill(2) }'"
   ]
  },
  {
   "cell_type": "markdown",
   "metadata": {},
   "source": [
    "## whole cell"
   ]
  },
  {
   "cell_type": "code",
   "execution_count": 5,
   "metadata": {},
   "outputs": [
    {
     "name": "stdout",
     "output_type": "stream",
     "text": [
      "Cannot find colors\n",
      "Loaded time axis !!\n",
      "addr_time_axis is C:/Users/Lionel/Desktop/processings/mda_HOG1_rising_a/composite00\\time_axis_pos0.yaml\n",
      "self.addr_results is C:/Users/Lionel/Desktop/processings/mda_HOG1_rising_a/composite00\n",
      "addr_tif_res is C:/Users/Lionel/Desktop/processings/mda_HOG1_rising_a/composite00\\composite00.tif\n",
      "self.addr_tif C:/Users/Lionel/Desktop/processings/mda_HOG1_rising_a/composite00\\composite00.tif\n",
      "self.film.shape is (2022, 512, 512) \n",
      "using load_shape3\n",
      "step is 3\n",
      "Loading col 1\n",
      "Loading col 2\n",
      "self.list_imgs_BF.shape is (674, 512, 512) \n",
      "self.list_imgs_fluo1.shape is (674, 512, 512) \n",
      "self.list_imgs_fluo2.shape is (674, 512, 512) \n",
      "In retrieve_size_from_BF, self.size is 512 \n",
      "['C:/Users/Lionel/Desktop/processings/mda_HOG1_rising_a/composite00/processings\\\\pkl_cntrs_pred_tracking.pkl', 'C:/Users/Lionel/Desktop/processings/mda_HOG1_rising_a/composite00/processings\\\\pkl_cntrs_tracking.pkl']\n",
      "addr_pkl C:/Users/Lionel/Desktop/processings/mda_HOG1_rising_a/composite00/processings/pkl_cntrs_*.pkl\n",
      "root_cntrs C:/Users/Lionel/Desktop/processings/mda_HOG1_rising_a/composite00/processings\n",
      "addr_cntrs C:/Users/Lionel/Desktop/processings/mda_HOG1_rising_a/composite00/processings\\pkl_cntrs_tracking.pkl\n",
      "Replacing bad pictures with previous ones...\n"
     ]
    }
   ],
   "source": [
    "ar = ANALYSE_RESULTS( addr_results=addr_results, load_fluo=[1,2], nb_fluo=2, kind_track='simple', \n",
    "          name_exp= 'exp' + str(num), unique_csv=True, load_visu=False, targ_pos=num  )"
   ]
  },
  {
   "cell_type": "code",
   "execution_count": 6,
   "metadata": {
    "scrolled": false
   },
   "outputs": [
    {
     "data": {
      "text/html": [
       "\n",
       "        <iframe\n",
       "            width=\"1200\"\n",
       "            height=\"700\"\n",
       "            src=\"http://10.40.12.86:5975\"\n",
       "            frameborder=\"0\"\n",
       "            allowfullscreen\n",
       "        ></iframe>\n",
       "        "
      ],
      "text/plain": [
       "<IPython.lib.display.IFrame at 0x1f622f4e308>"
      ]
     },
     "metadata": {},
     "output_type": "display_data"
    }
   ],
   "source": [
    "ar.display()"
   ]
  },
  {
   "cell_type": "code",
   "execution_count": null,
   "metadata": {},
   "outputs": [],
   "source": [
    "ar.visu('fluo whole cell')"
   ]
  },
  {
   "cell_type": "code",
   "execution_count": null,
   "metadata": {},
   "outputs": [],
   "source": [
    "ar.visu('area')"
   ]
  },
  {
   "cell_type": "code",
   "execution_count": null,
   "metadata": {},
   "outputs": [],
   "source": [
    "ar.visu('colocalization', csv=True)"
   ]
  },
  {
   "cell_type": "code",
   "execution_count": null,
   "metadata": {},
   "outputs": [],
   "source": []
  }
 ],
 "metadata": {
  "kernelspec": {
   "display_name": "Python 3",
   "language": "python",
   "name": "python3"
  },
  "language_info": {
   "codemirror_mode": {
    "name": "ipython",
    "version": 3
   },
   "file_extension": ".py",
   "mimetype": "text/x-python",
   "name": "python",
   "nbconvert_exporter": "python",
   "pygments_lexer": "ipython3",
   "version": "3.7.7"
  }
 },
 "nbformat": 4,
 "nbformat_minor": 4
}
