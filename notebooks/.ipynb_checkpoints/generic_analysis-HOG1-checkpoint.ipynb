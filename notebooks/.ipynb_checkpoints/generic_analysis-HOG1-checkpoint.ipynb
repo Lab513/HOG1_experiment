{
 "cells": [
  {
   "cell_type": "raw",
   "metadata": {},
   "source": [
    "For performing an extraction, copy this file adding '_suffix' to the name of the jupyter notebook and work in this new file. "
   ]
  },
  {
   "cell_type": "markdown",
   "metadata": {},
   "source": [
    "## Add path"
   ]
  },
  {
   "cell_type": "code",
   "execution_count": null,
   "metadata": {},
   "outputs": [],
   "source": [
    "import os,sys\n",
    "op = os.path\n",
    "opb,opd = op.basename, op.dirname\n",
    "opj,opa = op.join, op.abspath\n",
    "path_unet = opj( opd(os.getcwd()), 'unet')\n",
    "sys.path.append(path_unet)             # add path"
   ]
  },
  {
   "cell_type": "code",
   "execution_count": 2,
   "metadata": {
    "scrolled": true
   },
   "outputs": [
    {
     "name": "stdout",
     "output_type": "stream",
     "text": [
      "Using matplotlib backend: Qt5Agg\n"
     ]
    }
   ],
   "source": [
    "%matplotlib\n",
    "import glob\n",
    "from time import time\n",
    "import numpy as np\n",
    "from matplotlib import pyplot as plt\n",
    "\n",
    "from analyse_results import ANALYSE_RESULTS\n",
    "from utils.sep_tif_layers import SEP_TIF_LAYERS as STL"
   ]
  },
  {
   "cell_type": "markdown",
   "metadata": {},
   "source": [
    "## num experiment"
   ]
  },
  {
   "cell_type": "code",
   "execution_count": 3,
   "metadata": {},
   "outputs": [],
   "source": [
    "num = 0               "
   ]
  },
  {
   "cell_type": "markdown",
   "metadata": {},
   "source": [
    "## Address folder of the processing"
   ]
  },
  {
   "cell_type": "code",
   "execution_count": 4,
   "metadata": {},
   "outputs": [],
   "source": [
    "base_name_results = 'C:/Users/Lionel/Desktop/processings/Exp74_extract_20-10-2021-12-53/GrowthRate420190723_52103_PM_f00'\n",
    "addr_results = f'{ base_name_results }{ str(num).zfill(2) }'"
   ]
  },
  {
   "cell_type": "markdown",
   "metadata": {},
   "source": [
    "## Adresses images"
   ]
  },
  {
   "cell_type": "code",
   "execution_count": 5,
   "metadata": {},
   "outputs": [
    {
     "name": "stdout",
     "output_type": "stream",
     "text": [
      "C:/Users/Lionel/Desktop/data/data_Celine/Exp74_07232019/GrowthRate420190723_52103 PM_20190724_51918 AM\\GrowthRate420190723_52103 PM_f0000.tif\n"
     ]
    }
   ],
   "source": [
    "root_tif = 'C:/Users/Lionel/Desktop/data/data_Celine/Exp74_07232019/GrowthRate420190723_52103 PM_20190724_51918 AM'\n",
    "root_name = 'GrowthRate420190723_52103 PM_f00'\n",
    "curr_tif = f'{ root_name }{str(num).zfill(2)}.tif'  # \n",
    "addr_tif = opj(root_tif, curr_tif)\n",
    "print(addr_tif)"
   ]
  },
  {
   "cell_type": "markdown",
   "metadata": {},
   "source": [
    "## whole cell"
   ]
  },
  {
   "cell_type": "code",
   "execution_count": 6,
   "metadata": {
    "scrolled": true
   },
   "outputs": [
    {
     "name": "stdout",
     "output_type": "stream",
     "text": [
      "['C:/Users/Lionel/Desktop/processings/Exp74_extract_20-10-2021-12-53/GrowthRate420190723_52103_PM_f0000/processings/proc_temp\\\\pkl_bt_cntrs_GrowthRate420190723_52103_PM_f0000_movie_cleaned_BF_Sd32.pkl']\n",
      "addr_pkl C:/Users/Lionel/Desktop/processings/Exp74_extract_20-10-2021-12-53/GrowthRate420190723_52103_PM_f0000/processings/proc_temp/pkl_bt_cntrs_*.pkl\n",
      "root_cntrs C:/Users/Lionel/Desktop/processings/Exp74_extract_20-10-2021-12-53/GrowthRate420190723_52103_PM_f0000/processings/proc_temp\n",
      "addr_cntrs C:/Users/Lionel/Desktop/processings/Exp74_extract_20-10-2021-12-53/GrowthRate420190723_52103_PM_f0000/processings/proc_temp\\pkl_bt_cntrs_GrowthRate420190723_52103_PM_f0000_movie_cleaned_BF_Sd32.pkl\n",
      "self.addr_tif C:/Users/Lionel/Desktop/data/data_Celine/Exp74_07232019/GrowthRate420190723_52103 PM_20190724_51918 AM\\GrowthRate420190723_52103 PM_f0000.tif\n",
      "self.film.shape is (360, 2048, 2048) \n",
      "using load_shape3\n",
      "step is 3\n",
      "Loading col 1\n",
      "Loading col 2\n",
      "self.list_imgs_BF.shape is (120, 2048, 2048) \n",
      "self.list_imgs_fluo1.shape is (120, 2048, 2048) \n",
      "self.list_imgs_fluo2.shape is (120, 2048, 2048) \n",
      "Replacing picture 106 by picture 105\n"
     ]
    }
   ],
   "source": [
    "ar = ANALYSE_RESULTS(addr_results=addr_results, addr_tif=addr_tif, load_fluo=[1,2], nb_fluo=2, \n",
    "          name_exp= 'exp' + str(num), unique_csv=True  )"
   ]
  },
  {
   "cell_type": "code",
   "execution_count": null,
   "metadata": {},
   "outputs": [],
   "source": [
    "cells = range(7,18) #[7,8,9,10] 'all' range(7,18)"
   ]
  },
  {
   "cell_type": "markdown",
   "metadata": {},
   "source": [
    "### Analysis : All fluo cells"
   ]
  },
  {
   "cell_type": "code",
   "execution_count": null,
   "metadata": {},
   "outputs": [],
   "source": [
    "ar.all_fluo(cells, zero_after_drop=100, corrL1=True, csv=True)"
   ]
  },
  {
   "cell_type": "markdown",
   "metadata": {},
   "source": [
    "### Analysis : Average fluo with standard deviation"
   ]
  },
  {
   "cell_type": "code",
   "execution_count": null,
   "metadata": {
    "scrolled": true
   },
   "outputs": [],
   "source": [
    "ar.average_fluo(cells, zero_after_drop=100,corrL1=True, csv=True)"
   ]
  },
  {
   "cell_type": "markdown",
   "metadata": {},
   "source": [
    "## Colocalisation"
   ]
  },
  {
   "cell_type": "markdown",
   "metadata": {},
   "source": [
    "### Analysis : Fluo Colocalization"
   ]
  },
  {
   "cell_type": "code",
   "execution_count": null,
   "metadata": {},
   "outputs": [],
   "source": [
    "ar = ANALYSE_RESULTS(addr_results=addr_results, addr_tif=addr_tif, load_fluo=[1,2], nb_fluo=2, \n",
    "          name_exp= 'exp' + str(num), unique_csv=True  )"
   ]
  },
  {
   "cell_type": "code",
   "execution_count": null,
   "metadata": {},
   "outputs": [],
   "source": [
    "cells = range(7,18) #[7,8,9,10] 'all' range(7,18)"
   ]
  },
  {
   "cell_type": "code",
   "execution_count": null,
   "metadata": {},
   "outputs": [],
   "source": [
    "ar.all_fluo_in_nucleus(cells)"
   ]
  }
 ],
 "metadata": {
  "kernelspec": {
   "display_name": "Python 3",
   "language": "python",
   "name": "python3"
  },
  "language_info": {
   "codemirror_mode": {
    "name": "ipython",
    "version": 3
   },
   "file_extension": ".py",
   "mimetype": "text/x-python",
   "name": "python",
   "nbconvert_exporter": "python",
   "pygments_lexer": "ipython3",
   "version": "3.7.7"
  }
 },
 "nbformat": 4,
 "nbformat_minor": 4
}
