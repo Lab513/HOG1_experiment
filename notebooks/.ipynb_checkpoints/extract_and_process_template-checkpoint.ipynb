{
 "cells": [
  {
   "cell_type": "raw",
   "metadata": {},
   "source": [
    "For performing an extraction and processing, copy this file changing the name by whatever name in the folder jupyter_for_analysis/notebooks and work with this new file. "
   ]
  },
  {
   "cell_type": "markdown",
   "metadata": {},
   "source": [
    "## Change of folder\n",
    "We suppose the that this notebook is in a folder inside the folder *jupyter_for_analysis*. "
   ]
  },
  {
   "cell_type": "code",
   "execution_count": null,
   "metadata": {},
   "outputs": [],
   "source": [
    "import os\n",
    "op = os.path\n",
    "opd, opb, opj = op.dirname, op.basename, op.join\n",
    "os.chdir(opj(opd(opd(os.getcwd())), 'unet'))                # go into unet folder"
   ]
  },
  {
   "cell_type": "code",
   "execution_count": null,
   "metadata": {
    "scrolled": false
   },
   "outputs": [],
   "source": [
    "from modules_analyse.full_processing import FULL_PROC"
   ]
  },
  {
   "cell_type": "markdown",
   "metadata": {},
   "source": [
    "## Data\n",
    "\n",
    "Input data are defined by 3 variables : \n",
    "\n",
    "**dir_exp** : it gives the path to the folder containing the videos  \n",
    "**root_file** : it is the generic name of the composite video without the last two digits   \n",
    "**list_layer** : list of the layers contained in the composite video  \n",
    "\n",
    "Example : \n",
    "\n",
    "dir_exp = 'N:/Beatrix/DrWho/Exp74_07232019/GrowthRate420190723_52103 PM_20190724_51918 AM'  \n",
    "root_file = 'GrowthRate420190723_52103 PM_f00'                     \n",
    "list_layers = ['BF', 'fluo1', 'fluo2']  \n"
   ]
  },
  {
   "cell_type": "code",
   "execution_count": null,
   "metadata": {},
   "outputs": [],
   "source": [
    "dir_exp = 'path for experiments (folder with all numeroted movies)'\n",
    "root_file = 'root_name for experiment without the last two digits'\n",
    "list_layers = 'list of the layers in the composite video eg: [BF, fluo1, fluo2]'"
   ]
  },
  {
   "cell_type": "markdown",
   "metadata": {},
   "source": [
    "## Destination\n",
    "\n",
    "The variable **dest** defines final the destination folder in which will be saved the data prepared and processed.     \n",
    "It is created by the user  \n",
    "Example : \n",
    "dest = 'N:/Analyses/processings/Exp74_extract_22-10-2021-14-42'"
   ]
  },
  {
   "cell_type": "code",
   "execution_count": null,
   "metadata": {},
   "outputs": [],
   "source": [
    "dest = 'destination folder'"
   ]
  },
  {
   "cell_type": "markdown",
   "metadata": {},
   "source": [
    "##  Positions"
   ]
  },
  {
   "cell_type": "code",
   "execution_count": null,
   "metadata": {},
   "outputs": [],
   "source": [
    "positions = [6] # range(0,24) [6,8,19,24]"
   ]
  },
  {
   "cell_type": "markdown",
   "metadata": {},
   "source": [
    "## Create fp object\n",
    "\n",
    "In case the local preparation of the data locally is yet done,  \n",
    "two options have to be set for preventing to repeat this step this can be done like that :   \n",
    "\n",
    "fp = FULL_PROC(dir_exp, root_file, list_layers, dest, load_data=False, temp_dest='proc_21-10-2021-11-56')\n",
    "\n",
    "with **load_data** set at False   \n",
    "and **temp_dest** given the name of the folder of yet prepared data before segmentation and tracking. \n",
    "\n",
    "For applying the processing to specific positions, set *list_pos=positions*. If you want to process all the positions set *list_pos=None*. By default, *list_pos=None*"
   ]
  },
  {
   "cell_type": "code",
   "execution_count": null,
   "metadata": {},
   "outputs": [],
   "source": [
    "fp = FULL_PROC(dir_exp, root_file, list_layers, dest,\n",
    "               load_data=False, list_pos=None, \n",
    "               temp_dest='proc_27-04-2022-12-00') "
   ]
  },
  {
   "cell_type": "markdown",
   "metadata": {},
   "source": [
    "## Extract layers\n",
    "\n",
    "If the composite video files are divided in two, they can be be merged.  \n",
    "To do so, give a suffix name to the option **merge** as follows:  \n",
    "\n",
    "fp.extract_layers_of_list_tif(list_tif=range(0,1), merge='suffix')\n",
    "\n",
    "where *'_t00000'* is the suffix at the end of the name of the file without the last digit..   \n",
    "For example in the case of two files file_0000 and file_0001, the suffix is *_000*.\n",
    "The option *list_tif* is the list of the positions we want to extract. \n",
    "For extracting only certain positions write : *list_tif=positions*"
   ]
  },
  {
   "cell_type": "code",
   "execution_count": null,
   "metadata": {},
   "outputs": [],
   "source": [
    "fp.extract_layers_of_list_tif(list_tif=positions)"
   ]
  },
  {
   "cell_type": "markdown",
   "metadata": {},
   "source": [
    "## Segment and track\n",
    "\n",
    "the name of the model can be provided via the option **name_mod**  \n",
    "For example :\n",
    "\n",
    "fp.segm_track_list_tif(list_tif=range(0,1), name_mod=Sd32)\n",
    "\n",
    "Here  *Sd32* stands for stardist\n",
    "The option *list_tif* is the list of the positions we want to process. \n",
    "For processing only certain positions write : *list_tif=positions*"
   ]
  },
  {
   "cell_type": "code",
   "execution_count": null,
   "metadata": {},
   "outputs": [],
   "source": [
    "fp.segm_track_list_tif(list_tif=positions)"
   ]
  }
 ],
 "metadata": {
  "kernelspec": {
   "display_name": "Python 3",
   "language": "python",
   "name": "python3"
  },
  "language_info": {
   "codemirror_mode": {
    "name": "ipython",
    "version": 3
   },
   "file_extension": ".py",
   "mimetype": "text/x-python",
   "name": "python",
   "nbconvert_exporter": "python",
   "pygments_lexer": "ipython3",
   "version": "3.8.8"
  }
 },
 "nbformat": 4,
 "nbformat_minor": 4
}
