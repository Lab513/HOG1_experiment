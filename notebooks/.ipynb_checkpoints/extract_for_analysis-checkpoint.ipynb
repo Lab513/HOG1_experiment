{
 "cells": [
  {
   "cell_type": "raw",
   "metadata": {},
   "source": [
    "For performing an extraction, copy this file adding '_suffix' to the name of the jupyter notebook and work in this new file. "
   ]
  },
  {
   "cell_type": "markdown",
   "metadata": {},
   "source": [
    "## Change of folder"
   ]
  },
  {
   "cell_type": "code",
   "execution_count": null,
   "metadata": {
    "scrolled": false
   },
   "outputs": [],
   "source": [
    "import os\n",
    "op = os.path\n",
    "opd, opb, opj = op.dirname, op.basename, op.join\n",
    "os.chdir( opj( opd(os.getcwd()), 'unet' ) )                # go into unet folder\n",
    "from modules_analyse.full_processing import FULL_PROC"
   ]
  },
  {
   "cell_type": "markdown",
   "metadata": {},
   "source": [
    "## Data"
   ]
  },
  {
   "cell_type": "code",
   "execution_count": null,
   "metadata": {},
   "outputs": [],
   "source": [
    "dir_exp = 'path for experiments (folder with all numeroted movies)'\n",
    "root_file = 'root_name for experiment without the last two digits'\n",
    "list_layers = 'list of the layers eg: [BF, fluo1, fluo2]'"
   ]
  },
  {
   "cell_type": "markdown",
   "metadata": {},
   "source": [
    "## Destination"
   ]
  },
  {
   "cell_type": "code",
   "execution_count": null,
   "metadata": {},
   "outputs": [],
   "source": [
    "dest = 'destination folder'"
   ]
  },
  {
   "cell_type": "markdown",
   "metadata": {},
   "source": [
    "## Create fp object"
   ]
  },
  {
   "cell_type": "code",
   "execution_count": null,
   "metadata": {},
   "outputs": [],
   "source": [
    "fp = FULL_PROC(dir_exp, root_file, list_layers, dest)"
   ]
  },
  {
   "cell_type": "markdown",
   "metadata": {},
   "source": [
    "## Extract layers"
   ]
  },
  {
   "cell_type": "code",
   "execution_count": null,
   "metadata": {},
   "outputs": [],
   "source": [
    "fp.extract_layers_of_list_tif(list_tif=range(0,1), merge='_t00000')"
   ]
  },
  {
   "cell_type": "markdown",
   "metadata": {},
   "source": [
    "## Segment and track"
   ]
  },
  {
   "cell_type": "raw",
   "metadata": {},
   "source": [
    "fp.segm_track_list_tif(list_tif=range(0,1))"
   ]
  }
 ],
 "metadata": {
  "kernelspec": {
   "display_name": "Python 3",
   "language": "python",
   "name": "python3"
  },
  "language_info": {
   "codemirror_mode": {
    "name": "ipython",
    "version": 3
   },
   "file_extension": ".py",
   "mimetype": "text/x-python",
   "name": "python",
   "nbconvert_exporter": "python",
   "pygments_lexer": "ipython3",
   "version": "3.7.7"
  }
 },
 "nbformat": 4,
 "nbformat_minor": 4
}
