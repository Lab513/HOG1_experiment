{
 "cells": [
  {
   "cell_type": "raw",
   "metadata": {},
   "source": [
    "For performing an extraction and processing, copy this file changing the name by whatever name in the folder jupyter_for_analysis/notebooks and work with this new file. "
   ]
  },
  {
   "cell_type": "markdown",
   "metadata": {},
   "source": [
    "## Change path"
   ]
  },
  {
   "cell_type": "code",
   "execution_count": null,
   "metadata": {
    "scrolled": true
   },
   "outputs": [],
   "source": [
    "%matplotlib\n",
    "import os, sys\n",
    "op = os.path\n",
    "opb,opd = op.basename, op.dirname\n",
    "opj,opa = op.join, op.abspath\n",
    "path_unet = opj( opd( opd( os.getcwd() ) ), 'unet')\n",
    "sys.path.append(path_unet)"
   ]
  },
  {
   "cell_type": "code",
   "execution_count": null,
   "metadata": {
    "scrolled": false
   },
   "outputs": [],
   "source": [
    "from analyse_results import ANALYSE_RESULTS"
   ]
  },
  {
   "cell_type": "markdown",
   "metadata": {},
   "source": [
    "## Visualisation"
   ]
  },
  {
   "cell_type": "markdown",
   "metadata": {},
   "source": [
    "### Visualisation of the cells in a given position"
   ]
  },
  {
   "cell_type": "markdown",
   "metadata": {},
   "source": [
    "*use shift+TAB for informations about ANALYSE_RESULTS, click inside before*  \n",
    "\n",
    "parameters:\n",
    "\n",
    "addr_results : address of the extracted files for a given position  \n",
    "load_fluo : list of the fluo eg: [1,2]  \n",
    "nb_fluo : number of fluos in the tif  \n",
    "name_exp : name of the experiment  \n",
    "unique_csv : Boolean   \n",
    "load_visu : Boolean, load the BF and fluos images for the visualisation  \n",
    "kind_track : 'simple' or 'btrack', indicates which tracker will be used.   \n",
    "targ_pos : index of the analysed position"
   ]
  },
  {
   "cell_type": "code",
   "execution_count": null,
   "metadata": {},
   "outputs": [],
   "source": [
    "num = str(num).zfill(2)\n",
    "addr_results = f'C:/Users/Lab513/Desktop/processings/proc_8-06-2022-16-38/GrowthRate320190718_65426_PM_f00{num}'\n",
    "\n",
    "ar = ANALYSE_RESULTS(addr_results=addr_results, load_fluo=[1,2], nb_fluo=2, \n",
    "                     name_exp= 'exp73' , unique_csv=True, load_visu=True,\n",
    "                     kind_track='simple', targ_pos=num  )\n",
    "ar.display()"
   ]
  },
  {
   "cell_type": "markdown",
   "metadata": {},
   "source": [
    "### Analysis"
   ]
  },
  {
   "cell_type": "markdown",
   "metadata": {},
   "source": [
    "Produce the curves and the csv files for the different quantities by running the cells hereunder. "
   ]
  },
  {
   "cell_type": "code",
   "execution_count": null,
   "metadata": {},
   "outputs": [],
   "source": [
    "ar.visu('area', save_fig=True, csv=True)"
   ]
  },
  {
   "cell_type": "raw",
   "metadata": {},
   "source": [
    "ar.mean_fluo_over_images(img_range=[0,6])"
   ]
  },
  {
   "cell_type": "code",
   "execution_count": null,
   "metadata": {
    "scrolled": false
   },
   "outputs": [],
   "source": [
    "ar.visu('fluo whole cell no_norm', csv=True,\n",
    "        fluo_num=1, make_avg=True, save_fig=True, rem_if_zero=False) # no_norm"
   ]
  },
  {
   "cell_type": "code",
   "execution_count": null,
   "metadata": {
    "scrolled": true
   },
   "outputs": [],
   "source": [
    "ar.visu('average fluo', csv=True, save_fig=True, rem_if_zero=False)"
   ]
  },
  {
   "cell_type": "code",
   "execution_count": null,
   "metadata": {
    "scrolled": true
   },
   "outputs": [],
   "source": [
    "ar.visu('colocalization', csv=True, save_fig=True)"
   ]
  },
  {
   "cell_type": "code",
   "execution_count": null,
   "metadata": {},
   "outputs": [],
   "source": [
    "ar.visu('only_nucleus', csv=True, save_fig=True)"
   ]
  },
  {
   "cell_type": "raw",
   "metadata": {},
   "source": [
    "ar.visu('growth')"
   ]
  },
  {
   "cell_type": "markdown",
   "metadata": {},
   "source": [
    "## Batch analysis"
   ]
  },
  {
   "cell_type": "markdown",
   "metadata": {},
   "source": [
    "We can give a list of positions for which to make automatically all the analysis curves and csv files. "
   ]
  },
  {
   "cell_type": "code",
   "execution_count": null,
   "metadata": {
    "scrolled": true
   },
   "outputs": [],
   "source": [
    "list_pos = [1, 4, 8, 18, 19, 21, 24]\n",
    "for num in list_pos:\n",
    "    num = str(num).zfill(2)\n",
    "    addr_results = f'C:/Users/Lab513/Desktop/processings/proc_8-06-2022-16-38/GrowthRate320190718_65426_PM_f00{num}'\n",
    "\n",
    "    ar = ANALYSE_RESULTS(addr_results=addr_results, load_fluo=[1,2], nb_fluo=2, \n",
    "                         name_exp= 'exp73' , unique_csv=True, load_visu=True,\n",
    "                         kind_track='simple', targ_pos=num  )\n",
    "    ar.display()\n",
    "    ar.visu('only_nucleus', csv=True, save_fig=True)"
   ]
  }
 ],
 "metadata": {
  "kernelspec": {
   "display_name": "Python 3",
   "language": "python",
   "name": "python3"
  },
  "language_info": {
   "codemirror_mode": {
    "name": "ipython",
    "version": 3
   },
   "file_extension": ".py",
   "mimetype": "text/x-python",
   "name": "python",
   "nbconvert_exporter": "python",
   "pygments_lexer": "ipython3",
   "version": "3.8.8"
  }
 },
 "nbformat": 4,
 "nbformat_minor": 4
}
