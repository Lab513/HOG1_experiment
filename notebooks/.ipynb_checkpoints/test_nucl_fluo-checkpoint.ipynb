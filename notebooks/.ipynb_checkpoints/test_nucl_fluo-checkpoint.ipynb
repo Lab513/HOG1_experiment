{
 "cells": [
  {
   "cell_type": "code",
   "execution_count": null,
   "metadata": {
    "scrolled": true
   },
   "outputs": [],
   "source": [
    "%matplotlib\n",
    "import glob\n",
    "import os, sys\n",
    "op = os.path\n",
    "opb,opd = op.basename, op.dirname\n",
    "opj,opa = op.join, op.abspath\n",
    "from time import time\n",
    "path_unet = opj( opd(os.getcwd()), 'unet')\n",
    "sys.path.append(path_unet)\n",
    "import numpy as np\n",
    "\n",
    "from matplotlib import pyplot as plt\n",
    "\n",
    "from analyse_results import ANALYSE_RESULTS\n",
    "from utils.sep_tif_layers import SEP_TIF_LAYERS as STL"
   ]
  },
  {
   "cell_type": "markdown",
   "metadata": {},
   "source": [
    "## num experiment"
   ]
  },
  {
   "cell_type": "code",
   "execution_count": null,
   "metadata": {},
   "outputs": [],
   "source": [
    "num = 0 # 5, 6, 7, 8, 9"
   ]
  },
  {
   "cell_type": "markdown",
   "metadata": {},
   "source": [
    "## Addresses contours"
   ]
  },
  {
   "cell_type": "code",
   "execution_count": null,
   "metadata": {},
   "outputs": [],
   "source": [
    "base = 'C:/Users/Lionel/Desktop/processings/Exp74_extract_29-09-2021-15-29/GrowthRate420190723_52103_PM_f00'\n",
    "# exp87/GrowthRate520191016_84027_PM_f00\n",
    "root_cntrs = f'{ base }{ str(num).zfill(2) }/processings/proc_temp'\n",
    "for f in glob.glob(root_cntrs + f'/pkl_cntrs_G*.pkl'):   # find contours file\n",
    "    addr_cntrs = f \n",
    "print(f'addr_cntrs is {addr_cntrs}')"
   ]
  },
  {
   "cell_type": "markdown",
   "metadata": {},
   "source": [
    "## Adresses images"
   ]
  },
  {
   "cell_type": "code",
   "execution_count": null,
   "metadata": {},
   "outputs": [],
   "source": [
    "#root_tif = 'exp87'\n",
    "root_tif = 'C:/Users/Lionel/Desktop/data/data_Celine/Exp74_07232019/GrowthRate420190723_52103 PM_20190724_51918 AM'\n",
    "#curr_tif = f'GrowthRate520191016_84027 PM_f00{str(num).zfill(2)}.tif'  # !!!! sâce just before PM\n",
    "curr_tif = f'GrowthRate420190723_52103 PM_f00{str(num).zfill(2)}.tif'  # !!!! sâce just before PM\n",
    "addr_tif = opj(root_tif, curr_tif)"
   ]
  },
  {
   "cell_type": "markdown",
   "metadata": {},
   "source": [
    "### Fluo Colocalization"
   ]
  },
  {
   "cell_type": "code",
   "execution_count": null,
   "metadata": {},
   "outputs": [],
   "source": [
    "ar = ANALYSE_RESULTS(name_result=addr_cntrs, addr_tif=addr_tif, load_fluo=[1,2], nb_fluo=2, \n",
    "          name_exp= 'exp' + str(num), unique_csv=True  )"
   ]
  },
  {
   "cell_type": "code",
   "execution_count": null,
   "metadata": {},
   "outputs": [],
   "source": [
    "import os\n",
    "import json\n",
    "import shutil as sh\n",
    "from datetime import datetime\n",
    "from pathlib import Path\n",
    "import pickle as pkl\n",
    "from matplotlib import pyplot as plt\n",
    "from PIL import Image\n",
    "import cv2\n",
    "import numpy as np\n",
    "from scipy.linalg import norm"
   ]
  },
  {
   "cell_type": "code",
   "execution_count": null,
   "metadata": {},
   "outputs": [],
   "source": [
    "\n",
    "def fluo_nucl_ratio(cells, lgth=100,\n",
    "                    func='mean', show = False,\n",
    "                    draw_nucl=False, draw_cyto=True):\n",
    "    '''\n",
    "    '''\n",
    "    ##\n",
    "    all_curves  = []\n",
    "    all_curves1  = []\n",
    "    for num in cells:\n",
    "        ratio_nucl_cell = []\n",
    "        ratio_nucl_cell1 = []\n",
    "        for ind_img in range(lgth):\n",
    "            img = ar.cell(num).list_imgs_fluo2[ind_img] \n",
    "            img0 = img.copy()\n",
    "            ## nucleus\n",
    "            img_nucl = ar.cell(num).list_imgs_fluo1[ind_img]\n",
    "            img = cv2.addWeighted( img, 0.9, img_nucl, 0.1, 0 )\n",
    "            c = ar.nearest_fluo_contour(ind_img)\n",
    "            if draw_nucl: cv2.drawContours( img, [c], -1, (255, 254, 0), -1 )\n",
    "            mask0 = ar.mask_from_cntr(c)\n",
    "            nucl = getattr( ar.list_imgs_fluo2[ ind_img ][ mask0 > 200 ], func )()\n",
    "            #print( f'sum_nucl { sum_nucl }' )\n",
    "            ##\n",
    "            c = ar.list_cntrs_ci[ind_img]\n",
    "            mask1 = ar.mask_from_cntr(c)\n",
    "            cytoplasm = getattr( ar.list_imgs_fluo2[ ind_img ][ ( mask1 > 200 ) & ( mask0 < 10 ) ], func )()\n",
    "            cytoplasm1 = getattr( ar.list_imgs_fluo2[ ind_img ][ ( mask1 > 200 ) ], func )()\n",
    "            mask1[ mask0 > 220 ] = 100\n",
    "            if draw_cyto:\n",
    "                plt.imshow(mask1)\n",
    "                plt.figure()\n",
    "            ratio_nucl_cell += [ nucl/cytoplasm ]\n",
    "            ratio_nucl_cell1 += [ nucl/cytoplasm1 ]\n",
    "        ##\n",
    "        if show:\n",
    "            plt.imshow( img0 )\n",
    "            plt.figure()\n",
    "            plt.imshow( img )\n",
    "        #plt.plot(ratio_nucl_cell)\n",
    "        all_curves += [ ratio_nucl_cell ]\n",
    "        all_curves1 += [ ratio_nucl_cell1 ]\n",
    "    for i,crv in enumerate(all_curves):\n",
    "        crv = np.array(crv)\n",
    "        if i == 0:\n",
    "            sum_curve = crv\n",
    "        else:\n",
    "            sum_curve += crv\n",
    "    for i,crv in enumerate(all_curves1):\n",
    "        crv = np.array(crv)\n",
    "        if i == 0:\n",
    "            sum_curve1 = crv\n",
    "        else:\n",
    "            sum_curve1 += crv\n",
    "        print(f'sum_curve1')\n",
    "    plt.plot( sum_curve/len(all_curves) )\n",
    "    plt.plot( sum_curve1/len(all_curves1) )\n",
    "    plt.show()"
   ]
  },
  {
   "cell_type": "code",
   "execution_count": 9,
   "metadata": {},
   "outputs": [
    {
     "name": "stdout",
     "output_type": "stream",
     "text": [
      "sum_curve1\n",
      "sum_curve1\n",
      "sum_curve1\n",
      "sum_curve1\n"
     ]
    }
   ],
   "source": [
    "cells = range(4)\n",
    "fluo_nucl_ratio(cells, lgth=110, func='mean', show=False, draw_cyto=False)"
   ]
  },
  {
   "cell_type": "code",
   "execution_count": null,
   "metadata": {},
   "outputs": [],
   "source": []
  }
 ],
 "metadata": {
  "kernelspec": {
   "display_name": "Python 3",
   "language": "python",
   "name": "python3"
  },
  "language_info": {
   "codemirror_mode": {
    "name": "ipython",
    "version": 3
   },
   "file_extension": ".py",
   "mimetype": "text/x-python",
   "name": "python",
   "nbconvert_exporter": "python",
   "pygments_lexer": "ipython3",
   "version": "3.7.7"
  }
 },
 "nbformat": 4,
 "nbformat_minor": 4
}
