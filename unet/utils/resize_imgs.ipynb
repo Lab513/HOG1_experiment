{
 "cells": [
  {
   "cell_type": "code",
   "execution_count": 22,
   "metadata": {},
   "outputs": [],
   "source": [
    "import os\n",
    "import glob\n",
    "from matplotlib import pyplot as plt\n",
    "import cv2\n",
    "from skimage import io"
 ]
 },
  {
   "cell_type": "code",
   "execution_count": 23,
   "metadata": {},
   "outputs": [],
   "source": [
    "def resize_img(addr_img, debug=[]):\n",
    "    '''\n",
    "    Resize the images to the size : self.size\n",
    "    '''\n",
    "    img = cv2.imread(addr_img)\n",
    "    res = cv2.resize(img, dsize=(512,512), interpolation=cv2.INTER_CUBIC) # dsize=(512, 512)\n",
    "    ##\n",
    "    cv2.imwrite(f'{i}.tiff',res)"
 ]
 },
  {
   "cell_type": "code",
   "execution_count": 24,
   "metadata": {},
   "outputs": [],
   "source": [
    "for i,img in enumerate(glob.glob('*.tiff')):\n",
    "    resize_img(img,i)\n",
    "    os.remove(img)"
 ]
 },
  {
   "cell_type": "code",
   "execution_count": null,
   "metadata": {},
   "outputs": [],
   "source": []
 }
],
 "metadata": {
  "kernelspec": {
   "display_name": "Python 3",
   "language": "python",
   "name": "python3"
 },
  "language_info": {
   "codemirror_mode": {
    "name": "ipython",
    "version": 3
  },
   "file_extension": ".py",
   "mimetype": "text/x-python",
   "name": "python",
   "nbconvert_exporter": "python",
   "pygments_lexer": "ipython3",
   "version": "3.7.6"
 }
},
 "nbformat": 4,
 "nbformat_minor": 4
}
