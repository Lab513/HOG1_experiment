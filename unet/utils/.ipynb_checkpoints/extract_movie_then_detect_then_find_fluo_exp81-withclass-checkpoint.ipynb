{
 "cells": [
  {
   "cell_type": "code",
   "execution_count": 6,
   "metadata": {
    "scrolled": false
   },
   "outputs": [],
   "source": [
    "import os\n",
    "op = os.path\n",
    "opd, opb, opj = op.dirname, op.basename, op.join\n",
    "os.chdir(opd(os.getcwd()))\n",
    "from modules_analyse.full_processing import FULL_PROC"
   ]
  },
  {
   "cell_type": "code",
   "execution_count": 7,
   "metadata": {},
   "outputs": [],
   "source": [
    "dir_data = '/media/meglio/Seagate/Curie/data_Celine/data_10mars2021'\n",
    "dir_exp = 'Exp81_09122019/GrowthRate120190912_35114 PM_20190913_34832 AM' "
   ]
  },
  {
   "cell_type": "code",
   "execution_count": 8,
   "metadata": {},
   "outputs": [],
   "source": [
    "dest = '/home/meglio/Bureau/data/Exp81_extract_25-03-2021-21-55'\n",
    "root_file = 'GrowthRate120190912_35114 PM_f00'\n",
    "list_layers = ['BF', 'fluo1']"
   ]
  },
  {
   "cell_type": "code",
   "execution_count": 9,
   "metadata": {},
   "outputs": [],
   "source": [
    "fp = FULL_PROC(dir_data, dir_exp, root_file, list_layers, dest)"
   ]
  },
  {
   "cell_type": "markdown",
   "metadata": {},
   "source": [
    "## Extract layers"
   ]
  },
  {
   "cell_type": "code",
   "execution_count": null,
   "metadata": {},
   "outputs": [
    {
     "name": "stdout",
     "output_type": "stream",
     "text": [
      "self.name_file  GrowthRate120190912_35114 PM_f0001.tif\n",
      "## ld_sorted  ['frame0.png', 'frame1.png', 'frame2.png', 'frame3.png', 'frame4.png', 'frame5.png', 'frame6.png', 'frame7.png', 'frame8.png', 'frame9.png', 'frame10.png', 'frame11.png', 'frame12.png', 'frame13.png', 'frame14.png', 'frame15.png', 'frame16.png', 'frame17.png', 'frame18.png', 'frame19.png', 'frame20.png', 'frame21.png', 'frame22.png', 'frame23.png', 'frame24.png', 'frame25.png', 'frame26.png', 'frame27.png', 'frame28.png', 'frame29.png', 'frame30.png', 'frame31.png', 'frame32.png', 'frame33.png', 'frame34.png', 'frame35.png', 'frame36.png', 'frame37.png', 'frame38.png', 'frame39.png', 'frame40.png', 'frame41.png', 'frame42.png', 'frame43.png', 'frame44.png', 'frame45.png', 'frame46.png', 'frame47.png', 'frame48.png', 'frame49.png', 'frame50.png', 'frame51.png', 'frame52.png', 'frame53.png', 'frame54.png', 'frame55.png', 'frame56.png', 'frame57.png', 'frame58.png', 'frame59.png', 'frame60.png', 'frame61.png', 'frame62.png', 'frame63.png', 'frame64.png', 'frame65.png', 'frame66.png', 'frame67.png', 'frame68.png', 'frame69.png', 'frame70.png', 'frame71.png', 'frame72.png', 'frame73.png', 'frame74.png', 'frame75.png', 'frame76.png', 'frame77.png', 'frame78.png', 'frame79.png', 'frame80.png', 'frame81.png', 'frame82.png', 'frame83.png', 'frame84.png', 'frame85.png', 'frame86.png', 'frame87.png', 'frame88.png', 'frame89.png', 'frame90.png', 'frame91.png', 'frame92.png', 'frame93.png', 'frame94.png', 'frame95.png', 'frame96.png', 'frame97.png', 'frame98.png', 'frame99.png', 'frame100.png', 'frame101.png', 'frame102.png', 'frame103.png', 'frame104.png', 'frame105.png', 'frame106.png', 'frame107.png', 'frame108.png', 'frame109.png', 'frame110.png', 'frame111.png', 'frame112.png', 'frame113.png', 'frame114.png', 'frame115.png', 'frame116.png', 'frame117.png', 'frame118.png', 'frame119.png']\n",
      "indices of bad images for blurriness are : [42, 44, 45, 47, 49, 52, 54, 55, 57, 58, 59, 62, 78, 85, 86, 93, 94, 97, 98, 101, 102, 106, 109, 110, 113, 114]\n",
      "## ld_sorted  ['frame0.png', 'frame1.png', 'frame2.png', 'frame3.png', 'frame4.png', 'frame5.png', 'frame6.png', 'frame7.png', 'frame8.png', 'frame9.png', 'frame10.png', 'frame11.png', 'frame12.png', 'frame13.png', 'frame14.png', 'frame15.png', 'frame16.png', 'frame17.png', 'frame18.png', 'frame19.png', 'frame20.png', 'frame21.png', 'frame22.png', 'frame23.png', 'frame24.png', 'frame25.png', 'frame26.png', 'frame27.png', 'frame28.png', 'frame29.png', 'frame30.png', 'frame31.png', 'frame32.png', 'frame33.png', 'frame34.png', 'frame35.png', 'frame36.png', 'frame37.png', 'frame38.png', 'frame39.png', 'frame40.png', 'frame41.png', 'frame42.png', 'frame43.png', 'frame44.png', 'frame45.png', 'frame46.png', 'frame47.png', 'frame48.png', 'frame49.png', 'frame50.png', 'frame51.png', 'frame52.png', 'frame53.png', 'frame54.png', 'frame55.png', 'frame56.png', 'frame57.png', 'frame58.png', 'frame59.png', 'frame60.png', 'frame61.png', 'frame62.png', 'frame63.png', 'frame64.png', 'frame65.png', 'frame66.png', 'frame67.png', 'frame68.png', 'frame69.png', 'frame70.png', 'frame71.png', 'frame72.png', 'frame73.png', 'frame74.png', 'frame75.png', 'frame76.png', 'frame77.png', 'frame78.png', 'frame79.png', 'frame80.png', 'frame81.png', 'frame82.png', 'frame83.png', 'frame84.png', 'frame85.png', 'frame86.png', 'frame87.png', 'frame88.png', 'frame89.png', 'frame90.png', 'frame91.png', 'frame92.png', 'frame93.png', 'frame94.png', 'frame95.png', 'frame96.png', 'frame97.png', 'frame98.png', 'frame99.png', 'frame100.png', 'frame101.png', 'frame102.png', 'frame103.png', 'frame104.png', 'frame105.png', 'frame106.png', 'frame107.png', 'frame108.png', 'frame109.png', 'frame110.png', 'frame111.png', 'frame112.png', 'frame113.png', 'frame114.png', 'frame115.png', 'frame116.png', 'frame117.png', 'frame118.png', 'frame119.png']\n",
      "indices of bad images for contrast are : [1, 3, 4, 7, 9, 10, 13, 21, 22, 29, 45, 49, 57, 59, 61, 62, 78, 85, 93, 97, 98, 101, 102, 106, 110, 113, 114, 118, 119]\n",
      " list ll of pics to be removed is [1, 3, 4, 7, 9, 10, 13, 21, 22, 29, 42, 44, 45, 47, 49, 52, 54, 55, 57, 58, 59, 61, 62, 78, 85, 86, 93, 94, 97, 98, 101, 102, 106, 109, 110, 113, 114, 118, 119]\n",
      "time elapsed for extract is 1.2962445616722107 min\n",
      "self.name_file  GrowthRate120190912_35114 PM_f0002.tif\n",
      "## ld_sorted  ['frame0.png', 'frame1.png', 'frame2.png', 'frame3.png', 'frame4.png', 'frame5.png', 'frame6.png', 'frame7.png', 'frame8.png', 'frame9.png', 'frame10.png', 'frame11.png', 'frame12.png', 'frame13.png', 'frame14.png', 'frame15.png', 'frame16.png', 'frame17.png', 'frame18.png', 'frame19.png', 'frame20.png', 'frame21.png', 'frame22.png', 'frame23.png', 'frame24.png', 'frame25.png', 'frame26.png', 'frame27.png', 'frame28.png', 'frame29.png', 'frame30.png', 'frame31.png', 'frame32.png', 'frame33.png', 'frame34.png', 'frame35.png', 'frame36.png', 'frame37.png', 'frame38.png', 'frame39.png', 'frame40.png', 'frame41.png', 'frame42.png', 'frame43.png', 'frame44.png', 'frame45.png', 'frame46.png', 'frame47.png', 'frame48.png', 'frame49.png', 'frame50.png', 'frame51.png', 'frame52.png', 'frame53.png', 'frame54.png', 'frame55.png', 'frame56.png', 'frame57.png', 'frame58.png', 'frame59.png', 'frame60.png', 'frame61.png', 'frame62.png', 'frame63.png', 'frame64.png', 'frame65.png', 'frame66.png', 'frame67.png', 'frame68.png', 'frame69.png', 'frame70.png', 'frame71.png', 'frame72.png', 'frame73.png', 'frame74.png', 'frame75.png', 'frame76.png', 'frame77.png', 'frame78.png', 'frame79.png', 'frame80.png', 'frame81.png', 'frame82.png', 'frame83.png', 'frame84.png', 'frame85.png', 'frame86.png', 'frame87.png', 'frame88.png', 'frame89.png', 'frame90.png', 'frame91.png', 'frame92.png', 'frame93.png', 'frame94.png', 'frame95.png', 'frame96.png', 'frame97.png', 'frame98.png', 'frame99.png', 'frame100.png', 'frame101.png', 'frame102.png', 'frame103.png', 'frame104.png', 'frame105.png', 'frame106.png', 'frame107.png', 'frame108.png', 'frame109.png', 'frame110.png', 'frame111.png', 'frame112.png', 'frame113.png', 'frame114.png', 'frame115.png', 'frame116.png', 'frame117.png', 'frame118.png', 'frame119.png']\n",
      "indices of bad images for blurriness are : [11, 27, 40, 48, 51, 57, 68, 81, 90, 92, 96, 104, 107]\n",
      "## ld_sorted  ['frame0.png', 'frame1.png', 'frame2.png', 'frame3.png', 'frame4.png', 'frame5.png', 'frame6.png', 'frame7.png', 'frame8.png', 'frame9.png', 'frame10.png', 'frame11.png', 'frame12.png', 'frame13.png', 'frame14.png', 'frame15.png', 'frame16.png', 'frame17.png', 'frame18.png', 'frame19.png', 'frame20.png', 'frame21.png', 'frame22.png', 'frame23.png', 'frame24.png', 'frame25.png', 'frame26.png', 'frame27.png', 'frame28.png', 'frame29.png', 'frame30.png', 'frame31.png', 'frame32.png', 'frame33.png', 'frame34.png', 'frame35.png', 'frame36.png', 'frame37.png', 'frame38.png', 'frame39.png', 'frame40.png', 'frame41.png', 'frame42.png', 'frame43.png', 'frame44.png', 'frame45.png', 'frame46.png', 'frame47.png', 'frame48.png', 'frame49.png', 'frame50.png', 'frame51.png', 'frame52.png', 'frame53.png', 'frame54.png', 'frame55.png', 'frame56.png', 'frame57.png', 'frame58.png', 'frame59.png', 'frame60.png', 'frame61.png', 'frame62.png', 'frame63.png', 'frame64.png', 'frame65.png', 'frame66.png', 'frame67.png', 'frame68.png', 'frame69.png', 'frame70.png', 'frame71.png', 'frame72.png', 'frame73.png', 'frame74.png', 'frame75.png', 'frame76.png', 'frame77.png', 'frame78.png', 'frame79.png', 'frame80.png', 'frame81.png', 'frame82.png', 'frame83.png', 'frame84.png', 'frame85.png', 'frame86.png', 'frame87.png', 'frame88.png', 'frame89.png', 'frame90.png', 'frame91.png', 'frame92.png', 'frame93.png', 'frame94.png', 'frame95.png', 'frame96.png', 'frame97.png', 'frame98.png', 'frame99.png', 'frame100.png', 'frame101.png', 'frame102.png', 'frame103.png', 'frame104.png', 'frame105.png', 'frame106.png', 'frame107.png', 'frame108.png', 'frame109.png', 'frame110.png', 'frame111.png', 'frame112.png', 'frame113.png', 'frame114.png', 'frame115.png', 'frame116.png', 'frame117.png', 'frame118.png', 'frame119.png']\n",
      "indices of bad images for contrast are : [5, 8, 9, 11, 20, 27, 39, 40, 48, 62, 81, 82, 85, 86, 90, 92, 94, 104, 105, 106, 107, 110, 114, 115]\n",
      " list ll of pics to be removed is [5, 8, 9, 11, 20, 27, 39, 40, 48, 51, 57, 62, 68, 81, 82, 85, 86, 90, 92, 94, 96, 104, 105, 106, 107, 110, 114, 115]\n"
     ]
    },
    {
     "name": "stdout",
     "output_type": "stream",
     "text": [
      "time elapsed for extract is 1.302873464425405 min\n",
      "self.name_file  GrowthRate120190912_35114 PM_f0003.tif\n"
     ]
    }
   ],
   "source": [
    "fp.extract_layers_of_list_tif(list_tif=range(1,25))"
   ]
  },
  {
   "cell_type": "markdown",
   "metadata": {},
   "source": [
    "## Segment and track"
   ]
  },
  {
   "cell_type": "code",
   "execution_count": 5,
   "metadata": {
    "scrolled": false
   },
   "outputs": [
    {
     "name": "stdout",
     "output_type": "stream",
     "text": [
      "self.dest is /home/meglio/Bureau/data/Exp80_extract_25-03-2021-10-43 \n",
      "numf is 01 \n",
      "comm is python detect_cells.py -f /home/meglio/Bureau/data/Exp80_extract_25-03-2021-10-43/GrowthRate2120190905_44653_PM_f0001/movie_cleaned_BF.avi -m ep5_v3 --video --track all --num_cell --save_in /home/meglio/Bureau/data/Exp80_extract_25-03-2021-10-43/GrowthRate2120190905_44653_PM_f0001 --kind_track min \n",
      "os.getcwd() is /home/meglio/Bureau/git/Tools/unet\n",
      "time elapsed is 0.7092881520589193 min\n",
      "numf is 02 \n",
      "comm is python detect_cells.py -f /home/meglio/Bureau/data/Exp80_extract_25-03-2021-10-43/GrowthRate2120190905_44653_PM_f0002/movie_cleaned_BF.avi -m ep5_v3 --video --track all --num_cell --save_in /home/meglio/Bureau/data/Exp80_extract_25-03-2021-10-43/GrowthRate2120190905_44653_PM_f0002 --kind_track min \n",
      "os.getcwd() is /home/meglio/Bureau/git/Tools/unet\n",
      "time elapsed is 1.203425896167755 min\n",
      "numf is 03 \n",
      "comm is python detect_cells.py -f /home/meglio/Bureau/data/Exp80_extract_25-03-2021-10-43/GrowthRate2120190905_44653_PM_f0003/movie_cleaned_BF.avi -m ep5_v3 --video --track all --num_cell --save_in /home/meglio/Bureau/data/Exp80_extract_25-03-2021-10-43/GrowthRate2120190905_44653_PM_f0003 --kind_track min \n",
      "os.getcwd() is /home/meglio/Bureau/git/Tools/unet\n",
      "time elapsed is 1.430860714117686 min\n",
      "numf is 04 \n",
      "comm is python detect_cells.py -f /home/meglio/Bureau/data/Exp80_extract_25-03-2021-10-43/GrowthRate2120190905_44653_PM_f0004/movie_cleaned_BF.avi -m ep5_v3 --video --track all --num_cell --save_in /home/meglio/Bureau/data/Exp80_extract_25-03-2021-10-43/GrowthRate2120190905_44653_PM_f0004 --kind_track min \n",
      "os.getcwd() is /home/meglio/Bureau/git/Tools/unet\n",
      "time elapsed is 2.1019027193387347 min\n",
      "numf is 05 \n",
      "comm is python detect_cells.py -f /home/meglio/Bureau/data/Exp80_extract_25-03-2021-10-43/GrowthRate2120190905_44653_PM_f0005/movie_cleaned_BF.avi -m ep5_v3 --video --track all --num_cell --save_in /home/meglio/Bureau/data/Exp80_extract_25-03-2021-10-43/GrowthRate2120190905_44653_PM_f0005 --kind_track min \n",
      "os.getcwd() is /home/meglio/Bureau/git/Tools/unet\n",
      "time elapsed is 0.7876493573188782 min\n",
      "numf is 06 \n",
      "comm is python detect_cells.py -f /home/meglio/Bureau/data/Exp80_extract_25-03-2021-10-43/GrowthRate2120190905_44653_PM_f0006/movie_cleaned_BF.avi -m ep5_v3 --video --track all --num_cell --save_in /home/meglio/Bureau/data/Exp80_extract_25-03-2021-10-43/GrowthRate2120190905_44653_PM_f0006 --kind_track min \n",
      "os.getcwd() is /home/meglio/Bureau/git/Tools/unet\n",
      "time elapsed is 0.9715404987335206 min\n",
      "numf is 07 \n",
      "comm is python detect_cells.py -f /home/meglio/Bureau/data/Exp80_extract_25-03-2021-10-43/GrowthRate2120190905_44653_PM_f0007/movie_cleaned_BF.avi -m ep5_v3 --video --track all --num_cell --save_in /home/meglio/Bureau/data/Exp80_extract_25-03-2021-10-43/GrowthRate2120190905_44653_PM_f0007 --kind_track min \n",
      "os.getcwd() is /home/meglio/Bureau/git/Tools/unet\n",
      "time elapsed is 0.7386393149693807 min\n",
      "numf is 08 \n",
      "comm is python detect_cells.py -f /home/meglio/Bureau/data/Exp80_extract_25-03-2021-10-43/GrowthRate2120190905_44653_PM_f0008/movie_cleaned_BF.avi -m ep5_v3 --video --track all --num_cell --save_in /home/meglio/Bureau/data/Exp80_extract_25-03-2021-10-43/GrowthRate2120190905_44653_PM_f0008 --kind_track min \n",
      "os.getcwd() is /home/meglio/Bureau/git/Tools/unet\n",
      "time elapsed is 1.5367257793744404 min\n",
      "numf is 09 \n",
      "comm is python detect_cells.py -f /home/meglio/Bureau/data/Exp80_extract_25-03-2021-10-43/GrowthRate2120190905_44653_PM_f0009/movie_cleaned_BF.avi -m ep5_v3 --video --track all --num_cell --save_in /home/meglio/Bureau/data/Exp80_extract_25-03-2021-10-43/GrowthRate2120190905_44653_PM_f0009 --kind_track min \n",
      "os.getcwd() is /home/meglio/Bureau/git/Tools/unet\n",
      "time elapsed is 0.6898760120073955 min\n",
      "numf is 10 \n",
      "comm is python detect_cells.py -f /home/meglio/Bureau/data/Exp80_extract_25-03-2021-10-43/GrowthRate2120190905_44653_PM_f0010/movie_cleaned_BF.avi -m ep5_v3 --video --track all --num_cell --save_in /home/meglio/Bureau/data/Exp80_extract_25-03-2021-10-43/GrowthRate2120190905_44653_PM_f0010 --kind_track min \n",
      "os.getcwd() is /home/meglio/Bureau/git/Tools/unet\n",
      "time elapsed is 1.6215068856875101 min\n",
      "numf is 11 \n",
      "comm is python detect_cells.py -f /home/meglio/Bureau/data/Exp80_extract_25-03-2021-10-43/GrowthRate2120190905_44653_PM_f0011/movie_cleaned_BF.avi -m ep5_v3 --video --track all --num_cell --save_in /home/meglio/Bureau/data/Exp80_extract_25-03-2021-10-43/GrowthRate2120190905_44653_PM_f0011 --kind_track min \n",
      "os.getcwd() is /home/meglio/Bureau/git/Tools/unet\n",
      "time elapsed is 1.1500601450602213 min\n",
      "numf is 12 \n",
      "comm is python detect_cells.py -f /home/meglio/Bureau/data/Exp80_extract_25-03-2021-10-43/GrowthRate2120190905_44653_PM_f0012/movie_cleaned_BF.avi -m ep5_v3 --video --track all --num_cell --save_in /home/meglio/Bureau/data/Exp80_extract_25-03-2021-10-43/GrowthRate2120190905_44653_PM_f0012 --kind_track min \n",
      "os.getcwd() is /home/meglio/Bureau/git/Tools/unet\n",
      "time elapsed is 1.753085692723592 min\n",
      "numf is 13 \n",
      "comm is python detect_cells.py -f /home/meglio/Bureau/data/Exp80_extract_25-03-2021-10-43/GrowthRate2120190905_44653_PM_f0013/movie_cleaned_BF.avi -m ep5_v3 --video --track all --num_cell --save_in /home/meglio/Bureau/data/Exp80_extract_25-03-2021-10-43/GrowthRate2120190905_44653_PM_f0013 --kind_track min \n",
      "os.getcwd() is /home/meglio/Bureau/git/Tools/unet\n",
      "time elapsed is 2.6993263880411784 min\n",
      "numf is 14 \n",
      "comm is python detect_cells.py -f /home/meglio/Bureau/data/Exp80_extract_25-03-2021-10-43/GrowthRate2120190905_44653_PM_f0014/movie_cleaned_BF.avi -m ep5_v3 --video --track all --num_cell --save_in /home/meglio/Bureau/data/Exp80_extract_25-03-2021-10-43/GrowthRate2120190905_44653_PM_f0014 --kind_track min \n",
      "os.getcwd() is /home/meglio/Bureau/git/Tools/unet\n",
      "time elapsed is 1.4662631551424663 min\n",
      "numf is 15 \n",
      "comm is python detect_cells.py -f /home/meglio/Bureau/data/Exp80_extract_25-03-2021-10-43/GrowthRate2120190905_44653_PM_f0015/movie_cleaned_BF.avi -m ep5_v3 --video --track all --num_cell --save_in /home/meglio/Bureau/data/Exp80_extract_25-03-2021-10-43/GrowthRate2120190905_44653_PM_f0015 --kind_track min \n",
      "os.getcwd() is /home/meglio/Bureau/git/Tools/unet\n",
      "time elapsed is 3.434624266624451 min\n",
      "numf is 16 \n",
      "comm is python detect_cells.py -f /home/meglio/Bureau/data/Exp80_extract_25-03-2021-10-43/GrowthRate2120190905_44653_PM_f0016/movie_cleaned_BF.avi -m ep5_v3 --video --track all --num_cell --save_in /home/meglio/Bureau/data/Exp80_extract_25-03-2021-10-43/GrowthRate2120190905_44653_PM_f0016 --kind_track min \n",
      "os.getcwd() is /home/meglio/Bureau/git/Tools/unet\n",
      "time elapsed is 1.6294248342514037 min\n",
      "numf is 17 \n",
      "comm is python detect_cells.py -f /home/meglio/Bureau/data/Exp80_extract_25-03-2021-10-43/GrowthRate2120190905_44653_PM_f0017/movie_cleaned_BF.avi -m ep5_v3 --video --track all --num_cell --save_in /home/meglio/Bureau/data/Exp80_extract_25-03-2021-10-43/GrowthRate2120190905_44653_PM_f0017 --kind_track min \n",
      "os.getcwd() is /home/meglio/Bureau/git/Tools/unet\n",
      "time elapsed is 2.025791883468628 min\n",
      "numf is 18 \n",
      "comm is python detect_cells.py -f /home/meglio/Bureau/data/Exp80_extract_25-03-2021-10-43/GrowthRate2120190905_44653_PM_f0018/movie_cleaned_BF.avi -m ep5_v3 --video --track all --num_cell --save_in /home/meglio/Bureau/data/Exp80_extract_25-03-2021-10-43/GrowthRate2120190905_44653_PM_f0018 --kind_track min \n",
      "os.getcwd() is /home/meglio/Bureau/git/Tools/unet\n",
      "time elapsed is 4.0208758076032005 min\n",
      "numf is 19 \n",
      "comm is python detect_cells.py -f /home/meglio/Bureau/data/Exp80_extract_25-03-2021-10-43/GrowthRate2120190905_44653_PM_f0019/movie_cleaned_BF.avi -m ep5_v3 --video --track all --num_cell --save_in /home/meglio/Bureau/data/Exp80_extract_25-03-2021-10-43/GrowthRate2120190905_44653_PM_f0019 --kind_track min \n",
      "os.getcwd() is /home/meglio/Bureau/git/Tools/unet\n",
      "time elapsed is 5.562638163566589 min\n",
      "numf is 20 \n",
      "comm is python detect_cells.py -f /home/meglio/Bureau/data/Exp80_extract_25-03-2021-10-43/GrowthRate2120190905_44653_PM_f0020/movie_cleaned_BF.avi -m ep5_v3 --video --track all --num_cell --save_in /home/meglio/Bureau/data/Exp80_extract_25-03-2021-10-43/GrowthRate2120190905_44653_PM_f0020 --kind_track min \n",
      "os.getcwd() is /home/meglio/Bureau/git/Tools/unet\n"
     ]
    },
    {
     "name": "stdout",
     "output_type": "stream",
     "text": [
      "time elapsed is 0.6058794458707174 min\n",
      "numf is 21 \n",
      "comm is python detect_cells.py -f /home/meglio/Bureau/data/Exp80_extract_25-03-2021-10-43/GrowthRate2120190905_44653_PM_f0021/movie_cleaned_BF.avi -m ep5_v3 --video --track all --num_cell --save_in /home/meglio/Bureau/data/Exp80_extract_25-03-2021-10-43/GrowthRate2120190905_44653_PM_f0021 --kind_track min \n",
      "os.getcwd() is /home/meglio/Bureau/git/Tools/unet\n",
      "time elapsed is 0.8098638653755188 min\n",
      "numf is 22 \n",
      "comm is python detect_cells.py -f /home/meglio/Bureau/data/Exp80_extract_25-03-2021-10-43/GrowthRate2120190905_44653_PM_f0022/movie_cleaned_BF.avi -m ep5_v3 --video --track all --num_cell --save_in /home/meglio/Bureau/data/Exp80_extract_25-03-2021-10-43/GrowthRate2120190905_44653_PM_f0022 --kind_track min \n",
      "os.getcwd() is /home/meglio/Bureau/git/Tools/unet\n",
      "time elapsed is 1.1634094357490539 min\n",
      "numf is 23 \n",
      "comm is python detect_cells.py -f /home/meglio/Bureau/data/Exp80_extract_25-03-2021-10-43/GrowthRate2120190905_44653_PM_f0023/movie_cleaned_BF.avi -m ep5_v3 --video --track all --num_cell --save_in /home/meglio/Bureau/data/Exp80_extract_25-03-2021-10-43/GrowthRate2120190905_44653_PM_f0023 --kind_track min \n",
      "os.getcwd() is /home/meglio/Bureau/git/Tools/unet\n",
      "time elapsed is 0.7733678181966146 min\n",
      "numf is 24 \n",
      "comm is python detect_cells.py -f /home/meglio/Bureau/data/Exp80_extract_25-03-2021-10-43/GrowthRate2120190905_44653_PM_f0024/movie_cleaned_BF.avi -m ep5_v3 --video --track all --num_cell --save_in /home/meglio/Bureau/data/Exp80_extract_25-03-2021-10-43/GrowthRate2120190905_44653_PM_f0024 --kind_track min \n",
      "os.getcwd() is /home/meglio/Bureau/git/Tools/unet\n",
      "time elapsed is 0.7855774601300557 min\n"
     ]
    }
   ],
   "source": [
    "fp.segm_track_list_tif(list_tif=range(1,25))"
   ]
  },
  {
   "cell_type": "markdown",
   "metadata": {},
   "source": [
    "## Analyse"
   ]
  },
  {
   "cell_type": "code",
   "execution_count": null,
   "metadata": {
    "scrolled": true
   },
   "outputs": [],
   "source": [
    "fp.extract_infos_from_procs_and_tif(load_fluo=1,list_tif=range(1))"
   ]
  },
  {
   "cell_type": "code",
   "execution_count": null,
   "metadata": {},
   "outputs": [],
   "source": []
  }
 ],
 "metadata": {
  "kernelspec": {
   "display_name": "Python 3",
   "language": "python",
   "name": "python3"
  },
  "language_info": {
   "codemirror_mode": {
    "name": "ipython",
    "version": 3
   },
   "file_extension": ".py",
   "mimetype": "text/x-python",
   "name": "python",
   "nbconvert_exporter": "python",
   "pygments_lexer": "ipython3",
   "version": "3.7.6"
  }
 },
 "nbformat": 4,
 "nbformat_minor": 4
}
